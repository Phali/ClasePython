{
 "metadata": {
  "name": ""
 },
 "nbformat": 3,
 "nbformat_minor": 0,
 "worksheets": [
  {
   "cells": [
    {
     "cell_type": "code",
     "collapsed": false,
     "input": [
      "from intervalo import *"
     ],
     "language": "python",
     "metadata": {},
     "outputs": [],
     "prompt_number": 1
    },
    {
     "cell_type": "code",
     "collapsed": false,
     "input": [
      "Intervalo(-1,1)"
     ],
     "language": "python",
     "metadata": {},
     "outputs": [
      {
       "latex": [
        "$[-1,1]$"
       ],
       "metadata": {},
       "output_type": "pyout",
       "prompt_number": 2,
       "text": [
        "<intervalo.Intervalo at 0x280df90>"
       ]
      }
     ],
     "prompt_number": 2
    },
    {
     "cell_type": "code",
     "collapsed": false,
     "input": [
      "?Intervalo"
     ],
     "language": "python",
     "metadata": {},
     "outputs": [],
     "prompt_number": 3
    },
    {
     "cell_type": "code",
     "collapsed": false,
     "input": [
      "%load intervalo.py"
     ],
     "language": "python",
     "metadata": {},
     "outputs": [],
     "prompt_number": 4
    },
    {
     "cell_type": "code",
     "collapsed": false,
     "input": [
      "%%file intervalo2.py \n",
      "class Intervalo(object):\n",
      "    #Docstring\n",
      "    '''\n",
      "    Esta Clase provee aritmetica de Intervalos\n",
      "    '''\n",
      "    def __init__(self,min,max=None):\n",
      "        if max is None:\n",
      "            max=min\n",
      "            \n",
      "        self.min=min\n",
      "        self.max=max\n",
      "    \n",
      "    #def __repr__(self):\n",
      "        #return 'Intervalo(%s,%s)' %(self.min,self.max)\n",
      "        #Otra manera:\n",
      "        #return 'Intervalo({},{})'.format(self.min,self.max)\n",
      "    #def __str__(self):\n",
      "        #return '[{},{}]'.format(self.min,self.max)\n",
      "    #Para el Ipython\n",
      "    #def _repr_html_(self):\n",
      "        #return '[{},{}]'.format(self.min,self.max)\n",
      "    #En LaTeX\n",
      "    def _repr_latex_(self):\n",
      "        return '$[{},{}]$'.format(self.min,self.max)\n",
      "    \n",
      "    def __add__(self,otro):\n",
      "        \n",
      "        return Intervalo(self.min+otro.min,self.max+otro.max)"
     ],
     "language": "python",
     "metadata": {},
     "outputs": [
      {
       "output_type": "stream",
       "stream": "stdout",
       "text": [
        "Writing intervalo2.py\n"
       ]
      }
     ],
     "prompt_number": 8
    },
    {
     "cell_type": "code",
     "collapsed": false,
     "input": [
      "import intervalo2 as inter"
     ],
     "language": "python",
     "metadata": {},
     "outputs": [],
     "prompt_number": 9
    },
    {
     "cell_type": "code",
     "collapsed": false,
     "input": [
      "a=inter.Intervalo(-1,1)"
     ],
     "language": "python",
     "metadata": {},
     "outputs": [],
     "prompt_number": 11
    },
    {
     "cell_type": "code",
     "collapsed": false,
     "input": [
      "b=inter.Intervalo(-2,1)"
     ],
     "language": "python",
     "metadata": {},
     "outputs": [],
     "prompt_number": 13
    },
    {
     "cell_type": "code",
     "collapsed": false,
     "input": [
      "a+a"
     ],
     "language": "python",
     "metadata": {},
     "outputs": [
      {
       "latex": [
        "$[-2,2]$"
       ],
       "metadata": {},
       "output_type": "pyout",
       "prompt_number": 17,
       "text": [
        "<intervalo2.Intervalo at 0x7fddb8052dd0>"
       ]
      }
     ],
     "prompt_number": 17
    },
    {
     "cell_type": "code",
     "collapsed": false,
     "input": [],
     "language": "python",
     "metadata": {},
     "outputs": []
    }
   ],
   "metadata": {}
  }
 ]
}