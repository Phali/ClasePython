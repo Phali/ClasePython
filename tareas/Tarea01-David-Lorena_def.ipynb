{
 "metadata": {
  "name": "Tarea01-David-Lorena"
 },
 "nbformat": 3,
 "nbformat_minor": 0,
 "worksheets": [
  {
   "cells": [
    {
     "cell_type": "heading",
     "level": 1,
     "metadata": {},
     "source": [
      "Tarea 1: Ejercicios de calentamiento con Python"
     ]
    },
    {
     "cell_type": "heading",
     "level": 3,
     "metadata": {},
     "source": [
      "David D\u00e1valos Gonz\u00e1lez,    Lorena Marisol Garc\u00eda Iglesias"
     ]
    },
    {
     "cell_type": "markdown",
     "metadata": {},
     "source": [
      "**REGLAS:**\n",
      "\n",
      "- Usa Python para llevar a cabo las tareas. [O julia...]\n",
      "\n",
      "- S\u00ed se permite el trabajo colaborativo, y de hecho se fomenta, pero se exige el uso de las neuronas de todos los que colaboren. Se vale entregar una sola tarea por grupo de 2 o (si es necesario) 3 personas.\n",
      "\n",
      "- La tarea se entrega como un *notebook* de IPython, y debe incluir notas, comentario y **TODO** lo est\u00e9ticamente necesario, que lo haga entendible para una tercer persona no involucrada en el curso. \n",
      "\n",
      "- Se recomienda usar una versi\u00f3n nueva de este mismo notebook, reemplazando *[Respuesta aqu\u00ed] por tu discusi\u00f3n, c\u00f3digo, y resultados (en los tipos de celda que convengan, y con el n\u00famero de ellos que haga falta).\n",
      "\n",
      "- Cambia el nombre del notebook para reflejar el nombre que escojan para su grupo de trabajo, e.g. \"Tarea-01-profes\"\n",
      "\n",
      "\n"
     ]
    },
    {
     "cell_type": "heading",
     "level": 4,
     "metadata": {},
     "source": [
      "Nota: inicialize el notebook como \"ipython notebook --pylab inline\".... es de la unica manera en que funciono tener las graficas *inline*"
     ]
    },
    {
     "cell_type": "heading",
     "level": 1,
     "metadata": {},
     "source": [
      "Paquetes"
     ]
    },
    {
     "cell_type": "code",
     "collapsed": false,
     "input": [
      "import numpy as np\n",
      "\n",
      "import matplotlib.pyplot as plt\n",
      "\n",
      "from sympy import mpmath as mp"
     ],
     "language": "python",
     "metadata": {},
     "outputs": [],
     "prompt_number": 103
    },
    {
     "cell_type": "heading",
     "level": 1,
     "metadata": {},
     "source": [
      "Funciones construidas para el ejercicio 1"
     ]
    },
    {
     "cell_type": "code",
     "collapsed": false,
     "input": [
      "#Esta funci\u00f3n imprime un vector en la forma: [a,sqrt(a),steps], donde 'a' es el n\u00famero al cual se quiere calcular su ra\u00edz cuadrada, \n",
      "#'steps' es el n\u00famero de pasos que tard\u00f3 en calcularlo, recibe como inputs: \n",
      "#'a' y el valor inicial de la iteraci\u00f3n:\n",
      "def sqrt_babilon(y,ini):\n",
      "    x=ini\n",
      "    z=0\n",
      "    m=0\n",
      "    count=0\n",
      "    if ini==0:\n",
      "        print 'Error: singularidad'\n",
      "        z=1\n",
      "    if y==0:\n",
      "        z=1\n",
      "        return [0,0,0]\n",
      "    while z==0:\n",
      "        x=0.5*(x+y/x)\n",
      "        if x==m:\n",
      "            z=1\n",
      "            return [y,x,count]\n",
      "        else:\n",
      "                m=x\n",
      "        count=count+1\n",
      "        \n",
      "#Estudio de la evoluci\u00f3n del error absoluto del m\u00e9todo de los babilonios, recibe como input el error inicial y arroja \n",
      "#los valores sucesivos que toma el error\n",
      "def SqBab_error(ini,steps):\n",
      "    x=ini\n",
      "    y=np.zeros(steps)\n",
      "    for k in range(0,steps):\n",
      "        x=x**2/(2*(1+x))\n",
      "        y[k]=x\n",
      "    return [range(0,steps),y]"
     ],
     "language": "python",
     "metadata": {},
     "outputs": [],
     "prompt_number": 104
    },
    {
     "cell_type": "markdown",
     "metadata": {},
     "source": [
      "**1.** Implementa (con Python) el llamado \"m\u00e9todo Babil\u00f3nico\" para calcular la ra\u00edz cuadrada de un \n",
      "n\u00famero dado, $y$. Este m\u00e9todo consiste en la iteraci\u00f3n \n",
      "$ x_{n+1} = \\frac{1}{2} ( x_n + \\frac{y}{x_n}). $\n",
      "\n",
      "a. \u00bfCu\u00e1ndo se deber\u00eda terminar la iteracion?\n",
      "\n",
      "b. \u00bfCu\u00e1l es la convergencia del m\u00e9todo?\n",
      "\n",
      "c. Calcula, usando este m\u00e9todo, la ra\u00edz cuadrada de los n\u00fameros $0$ hasta $10$, en pasos de $0.1$.\n",
      "\n",
      "d. \u00bfQu\u00e9 ser\u00eda bueno \"poder hacer\" --y que a\u00fan no hemos aprendido-- con este c\u00f3digo para poderlo correr muchas veces sin tener que incluirlo expl\u00edcitamente?"
     ]
    },
    {
     "cell_type": "heading",
     "level": 2,
     "metadata": {},
     "source": [
      "Inciso a"
     ]
    },
    {
     "cell_type": "markdown",
     "metadata": {},
     "source": [
      "Las iteraciones pueden detenerse cuando la m\u00e1quina reconozca que los resultados tras dos iteraciones sucesivas son el mismo n\u00famero. Esto se consider\u00f3 en la construcci\u00f3n del c\u00f3digo para el c\u00e1lculo de la ra\u00edz cuadrada."
     ]
    },
    {
     "cell_type": "heading",
     "level": 2,
     "metadata": {},
     "source": [
      "Inciso b"
     ]
    },
    {
     "cell_type": "markdown",
     "metadata": {},
     "source": [
      "A continuaci\u00f3n se realiz\u00f3 un an\u00e1lisis estad\u00edstico del n\u00famero de pasos que tardan en converger los n\u00fameros enteros del 0 al 1000 (converger en el sentido de la m\u00e1quina ya comentado arriba).\n",
      "\n",
      "Tomando como $x_0=3$"
     ]
    },
    {
     "cell_type": "code",
     "collapsed": false,
     "input": [
      "#C\u00e1lculo de la ra\u00edz de los numeros del 1 al 1000\n",
      "x=np.zeros(1000)\n",
      "for k in range(0,1000):\n",
      "    x[k]=sqrt_babilon(k,3)[2]"
     ],
     "language": "python",
     "metadata": {},
     "outputs": [],
     "prompt_number": 105
    },
    {
     "cell_type": "code",
     "collapsed": false,
     "input": [
      "#Media.... El m\u00e9todo converge r\u00e1pido, en promedio s\u00f3lo son cerca de 7 pasos los que dan un buen resultado\n",
      "np.mean(x)"
     ],
     "language": "python",
     "metadata": {},
     "outputs": [
      {
       "output_type": "pyout",
       "prompt_number": 106,
       "text": [
        "7.4139999999999997"
       ]
      }
     ],
     "prompt_number": 106
    },
    {
     "cell_type": "code",
     "collapsed": false,
     "input": [
      "#Desviaci\u00f3n est\u00e1ndar\n",
      "np.std(x)"
     ],
     "language": "python",
     "metadata": {},
     "outputs": [
      {
       "output_type": "pyout",
       "prompt_number": 107,
       "text": [
        "0.88011590145842611"
       ]
      }
     ],
     "prompt_number": 107
    },
    {
     "cell_type": "code",
     "collapsed": false,
     "input": [
      "#Gr\u00e1fico del n\u00famero de pasos en que se calcula la ra\u00edz cuadrada contra los enteros del 0 al mil tomando x_0=3\n",
      "plt.figure()\n",
      "plt.ylabel('Pasos',fontsize='20')\n",
      "plt.xlabel('Enteros',fontsize='20')\n",
      "plt.scatter(range(0,1000),x,c='k')\n",
      "plt.show()"
     ],
     "language": "python",
     "metadata": {},
     "outputs": [
      {
       "output_type": "display_data",
       "png": "[encoded data removed]"
      }
     ],
     "prompt_number": 108
    },
    {
     "cell_type": "heading",
     "level": 3,
     "metadata": {},
     "source": [
      "An\u00e1lisis del error:"
     ]
    },
    {
     "cell_type": "markdown",
     "metadata": {},
     "source": [
      "Para estudiar la convergencia del m\u00e9todo babil\u00f3nico podemos ver c\u00f3mo evoluciona el error absoluto en cada iteraci\u00f3n, definiendo el valor de la ra\u00edz en la n-\u00e9sima iteraci\u00f3n como sigue: $x_n=\\sqrt{a}(1+\\epsilon_n)$, donde $\\sqrt{a}$ es precisamente la ra\u00edz que queremos aproximar, sustituyendo esto en la relaci\u00f3n de recurrencia de los babilonios tenemos:\n",
      "\n",
      "\\begin{eqnarray}\n",
      "x_{n+1}&=&\\frac{1}{2}\\left(\\sqrt{a}(1+\\epsilon_n)+\\frac{a}{\\sqrt{a}(1+\\epsilon_n)}\\right)\\newline\n",
      "\\sqrt{a}(1+\\epsilon_{n+1\n",
      "}) &=& \\frac{\\sqrt{a}}{2}\\left((1+\\epsilon_n)+\\frac{1}{(1+\\epsilon_n)}\\right)\\newline\n",
      "(1+\\epsilon_{n+1\n",
      "}) &=& \\frac{1}{2}\\left((1+\\epsilon_n)+\\frac{1}{(1+\\epsilon_n)}\\right)\\newline\n",
      "\\Longrightarrow \\epsilon_{n+1}&=&\\frac{\\epsilon_n^2}{2(1+\\epsilon_n)}\n",
      "\\end{eqnarray}\n",
      "\n",
      "A continuaci\u00f3n se grafica el error con ayuda de una rutina definida anteriormente:"
     ]
    },
    {
     "cell_type": "code",
     "collapsed": false,
     "input": [
      "#Evoluci\u00f3n del error tomando como error inicial 0.99\n",
      "y=SqBab_error(0.99,100)[1]\n",
      "x=SqBab_error(0.99,100)[0]"
     ],
     "language": "python",
     "metadata": {},
     "outputs": [],
     "prompt_number": 109
    },
    {
     "cell_type": "code",
     "collapsed": false,
     "input": [
      "#Gr\u00e1fica de la evoluci\u00f3n del error\n",
      "\n",
      "plt.figure()\n",
      "\n",
      "plt.title('Error',fontsize='35')\n",
      "\n",
      "plt.xlabel('n',fontsize='20')\n",
      "\n",
      "plt.ylabel('$\\epsilon_n$',fontsize='30')\n",
      "\n",
      "plt.plot(x,y,marker='.')\n",
      "\n",
      "plt.show()"
     ],
     "language": "python",
     "metadata": {},
     "outputs": [
      {
       "output_type": "display_data",
       "png": "[encoded data removed]"
      }
     ],
     "prompt_number": 110
    },
    {
     "cell_type": "markdown",
     "metadata": {},
     "source": [
      "A continuacion se analiza en escala log-log:"
     ]
    },
    {
     "cell_type": "code",
     "collapsed": false,
     "input": [
      "#Grafica de la evolucion del error en escala Log-Log\n",
      "\n",
      "plt.figure()\n",
      "\n",
      "plt.title('Error-loglog',fontsize='30')\n",
      "\n",
      "plt.xlabel('$\\log (n)$',fontsize='20')\n",
      "\n",
      "plt.ylabel('$\\log (\\epsilon_n)$',fontsize='30')\n",
      "\n",
      "plt.loglog(x,y,marker='.')\n",
      "\n",
      "xx=np.linspace(1,100,1000)\n",
      "\n",
      "#Fit encontrado para errores iniciales menores a 1.\n",
      "yy=10**(-2**xx)\n",
      "\n",
      "plt.loglog(xx,yy)\n",
      "\n",
      "plt.show()"
     ],
     "language": "python",
     "metadata": {},
     "outputs": [
      {
       "output_type": "display_data",
       "png": "[encoded data removed]"
      }
     ],
     "prompt_number": 111
    },
    {
     "cell_type": "markdown",
     "metadata": {},
     "source": [
      "A ojo, la gr\u00e1fica de arriba dicta una ecuaci\u00f3n de la forma $\\log_{10}(\\epsilon_n)=-\\beta^n+cte$, tras varios intentos de fit, se concluy\u00f3 que $\\beta=2$ y $cte=0$, por lo tanto el error va como:\n",
      "\n",
      "$$\\epsilon_n=10^{-2^n}$$\n",
      "\n",
      "Para errores iniciales $ \\epsilon_0<1 $\n",
      "\n",
      "Es decir, el m\u00e9todo converge m\u00e1s que exponencialmente"
     ]
    },
    {
     "cell_type": "heading",
     "level": 2,
     "metadata": {},
     "source": [
      "Inciso c"
     ]
    },
    {
     "cell_type": "code",
     "collapsed": false,
     "input": [
      "# Se imprime el n\u00famero al cual se le sac\u00f3 la ra\u00edz cuadrada en la forma (a,sqrt(a))\n",
      "for k in np.linspace(0,10,100):\n",
      "    y=sqrt_babilon(k,3)\n",
      "    print y[0],y[1]\n",
      "    "
     ],
     "language": "python",
     "metadata": {},
     "outputs": [
      {
       "output_type": "stream",
       "stream": "stdout",
       "text": [
        "0 0\n",
        "0.10101010101 0.317820863082\n",
        "0.20202020202 0.449466574975\n",
        "0.30303030303 0.550481882563\n",
        "0.40404040404 0.635641726164\n",
        "0.505050505051 0.710669054519\n",
        "0.606060606061 0.778498944162\n",
        "0.707070707071 0.840874965183\n",
        "0.808080808081 0.898933149951\n",
        "0.909090909091 0.953462589246\n",
        "1.0101010101 1.00503781526\n",
        "1.11111111111 1.05409255339\n",
        "1.21212121212 1.10096376513\n",
        "1.31313131313 1.14591941825\n",
        "1.41414141414 1.18917678002\n",
        "1.51515151515 1.23091490979\n",
        "1.61616161616 1.27128345233\n",
        "1.71717171717 1.31040898851\n",
        "1.81818181818 1.34839972493\n",
        "1.91919191919 1.38534902432\n",
        "2.0202020202 1.42133810904\n",
        "2.12121212121 1.45643816251\n",
        "2.22222222222 1.490711985\n",
        "2.32323232323 1.52421531393\n",
        "2.42424242424 1.55699788832\n",
        "2.52525252525 1.58910431541\n",
        "2.62626262626 1.62057478268\n",
        "2.72727272727 1.65144564769\n",
        "2.82828282828 1.68174993037\n",
        "2.92929292929 1.71151772684\n",
        "3.0303030303 1.74077655956\n",
        "3.13131313131 1.76955167523\n",
        "3.23232323232 1.7978662999\n",
        "3.33333333333 1.82574185835\n",
        "3.43434343434 1.85319816381\n",
        "3.53535353535 1.88025358273\n",
        "3.63636363636 1.90692517849\n",
        "3.73737373737 1.9332288373\n",
        "3.83838383838 1.95917937882\n",
        "3.93939393939 1.9847906538\n",
        "4.0404040404 2.01007563052\n",
        "4.14141414141 2.03504647156\n",
        "4.24242424242 2.05971460218\n",
        "4.34343434343 2.0840907714\n",
        "4.44444444444 2.10818510678\n",
        "4.54545454545 2.13200716356\n",
        "4.64646464646 2.15556596894\n",
        "4.74747474747 2.17887006209\n",
        "4.84848484848 2.20192753025\n",
        "4.94949494949 2.22474604157\n",
        "5.05050505051 2.24733287488\n",
        "5.15151515152 2.2696949468\n",
        "5.25252525253 2.29183883651\n",
        "5.35353535354 2.31377080834\n",
        "5.45454545455 2.33549683248\n",
        "5.55555555556 2.35702260396\n",
        "5.65656565657 2.37835356004\n",
        "5.75757575758 2.39949489634\n",
        "5.85858585859 2.42045158154\n",
        "5.9595959596 2.44122837105\n",
        "6.06060606061 2.46182981959\n",
        "6.16161616162 2.48226029288\n",
        "6.26262626263 2.50252397843\n",
        "6.36363636364 2.52262489555\n",
        "6.46464646465 2.54256690465\n",
        "6.56565656566 2.56235371595\n",
        "6.66666666667 2.58198889747\n",
        "6.76767676768 2.60147588259\n",
        "6.86868686869 2.62081797702\n",
        "6.9696969697 2.64001836541\n",
        "7.07070707071 2.65908011739\n",
        "7.17171717172 2.67800619337\n",
        "7.27272727273 2.69679944985\n",
        "7.37373737374 2.71546264451\n",
        "7.47474747475 2.73399844088\n",
        "7.57575757576 2.75240941282\n",
        "7.67676767677 2.77069804865\n",
        "7.77777777778 2.78886675511\n",
        "7.87878787879 2.80691786107\n",
        "7.9797979798 2.82485362095\n",
        "8.08080808081 2.84267621807\n",
        "8.18181818182 2.86038776774\n",
        "8.28282828283 2.87799032014\n",
        "8.38383838384 2.89548586317\n",
        "8.48484848485 2.91287632502\n",
        "8.58585858586 2.93016357664\n",
        "8.68686868687 2.94734943413\n",
        "8.78787878788 2.96443566094\n",
        "8.88888888889 2.98142397\n",
        "8.9898989899 2.99831602569\n",
        "9.09090909091 3.01511344578\n",
        "9.19191919192 3.03181780322\n",
        "9.29292929293 3.04843062787\n",
        "9.39393939394 3.06495340812\n",
        "9.49494949495 3.08138759246\n",
        "9.59595959596 3.09773459095\n",
        "9.69696969697 3.11399577665\n",
        "9.79797979798 3.13017248694\n",
        "9.89898989899 3.14626602483\n",
        "10.0 3.16227766017\n"
       ]
      }
     ],
     "prompt_number": 112
    },
    {
     "cell_type": "heading",
     "level": 1,
     "metadata": {},
     "source": [
      "Inciso d"
     ]
    },
    {
     "cell_type": "markdown",
     "metadata": {},
     "source": [
      "Creo que en este inciso se refiere a crear una funci\u00f3n con el comando def, para llamar al m\u00e9todo brevemente. Lo cual ya se hizo."
     ]
    },
    {
     "cell_type": "heading",
     "level": 1,
     "metadata": {},
     "source": [
      "Ejercicio 2"
     ]
    },
    {
     "cell_type": "markdown",
     "metadata": {},
     "source": [
      "**2.** Considera la f\u00f3rmula de recursi\u00f3n $ x_{n+1} =  x_n^2 $. \n",
      "\n",
      "a. \u00bfCu\u00e1l es el valor del iterado $x_{75}$ cuando el valor inicial es $x_0=1-10^{-20}$, calculado num\u00e9ricamente? \n",
      "\n",
      "b. Compara el resultado num\u00e9rico obtenido con el que uno esperar\u00eda al elevar al cuadrado un n\u00famero ligeramente menor que 1 un \n",
      "mont\u00f3n de veces... \u00bfCu\u00e1l resultado es el correcto? \n",
      "\n",
      "c. >Qu\u00e9 necesitar\u00edas para verificar esto num\u00e9ricamente?\n",
      "\n",
      "d. Suele ser una buena idea hacer el c\u00f3digo m\u00e1s general posible, para no repetir esfuerzos despu\u00e9s. \u00bfC\u00f3mo podr\u00edas escribir c\u00f3digo para la iteraci\u00f3n general $x_{n+1} = f(x_n)$, donde $f$ es una funci\u00f3n dada (una funci\u00f3n implementada con `def` en Python)?\n",
      "\n"
     ]
    },
    {
     "cell_type": "heading",
     "level": 1,
     "metadata": {},
     "source": [
      "Inciso d (Se contesto antes este inciso para usar las rutinas en los incisos posteriores)"
     ]
    },
    {
     "cell_type": "markdown",
     "metadata": {},
     "source": [
      "A continuaci\u00f3n se define una rutina que toma una funci\u00f3n *f* y un valor inicial para la iteraci\u00f3n, definiendo adem\u00e1s una funci\u00f3n como ejemplo para probar la rutina, que es simplemente $f(x)=1- x^2$ (mapeo log\u00edstico con $\\mu=1$), as\u00ed como la funci\u00f3n necesaria para realizar los incisos posteriores: $Sq(x)=x^2$"
     ]
    },
    {
     "cell_type": "code",
     "collapsed": false,
     "input": [
      "#f(x)=1-x^2\n",
      "\n",
      "def f(x):\n",
      "    return 1-0.2*x**2\n",
      "\n",
      "\n",
      "#Sq(x)=x^2\n",
      "\n",
      "def sq(x):\n",
      "    return x**2\n",
      "\n",
      "\n",
      "#Rutina *iterator*, toma la funci\u00f3n g(x) y el valor inicial de la iteraci\u00f3n x_0\n",
      "\n",
      "def iterator(g,ini,steps):\n",
      "    x=ini\n",
      "    l=np.zeros(steps)\n",
      "    for k in range(0,steps):\n",
      "        x=g(x)\n",
      "        l[k]=x\n",
      "    return l"
     ],
     "language": "python",
     "metadata": {},
     "outputs": [],
     "prompt_number": 113
    },
    {
     "cell_type": "code",
     "collapsed": false,
     "input": [
      "#Ejemplo con la funci\u00f3n del mapeo log\u00edstico con x_0=2\n",
      "iterator(f,0.8,20)"
     ],
     "language": "python",
     "metadata": {},
     "outputs": [
      {
       "output_type": "pyout",
       "prompt_number": 114,
       "text": [
        "array([ 0.872     ,  0.8479232 ,  0.85620525,  0.85338251,  0.85434766,\n",
        "        0.85401802,  0.85413065,  0.85409217,  0.85410531,  0.85410082,\n",
        "        0.85410236,  0.85410183,  0.85410201,  0.85410195,  0.85410197,\n",
        "        0.85410196,  0.85410197,  0.85410197,  0.85410197,  0.85410197])"
       ]
      }
     ],
     "prompt_number": 114
    },
    {
     "cell_type": "code",
     "collapsed": false,
     "input": [
      "#Ejemplo con la funci\u00f3n Cos(x) y x_0=0.2\n",
      "iterator(np.cos,0,20)"
     ],
     "language": "python",
     "metadata": {},
     "outputs": [
      {
       "output_type": "pyout",
       "prompt_number": 115,
       "text": [
        "array([ 1.        ,  0.54030231,  0.85755322,  0.65428979,  0.79348036,\n",
        "        0.70136877,  0.76395968,  0.72210243,  0.75041776,  0.73140404,\n",
        "        0.74423735,  0.73560474,  0.74142509,  0.73750689,  0.74014734,\n",
        "        0.7383692 ,  0.7395672 ,  0.73876032,  0.73930389,  0.73893776])"
       ]
      }
     ],
     "prompt_number": 115
    },
    {
     "cell_type": "heading",
     "level": 1,
     "metadata": {},
     "source": [
      "Inciso a"
     ]
    },
    {
     "cell_type": "markdown",
     "metadata": {},
     "source": [
      "Se presenta el resultado de la iteraci\u00f3n 75 con la condici\u00f3n inicial dada:"
     ]
    },
    {
     "cell_type": "code",
     "collapsed": false,
     "input": [
      "#Usando la funci\u00f3n definida en d:\n",
      "iterator(sq,1-10**(-20),75)\n",
      "#Resultado de 75 iteraiones para la funci\u00f3n x^2, evidentemente en la iteraci\u00f3n 75 el resultado es 1.0 debido al n\u00famero\n",
      "#de decimales que la m\u00e1quina puede tomar"
     ],
     "language": "python",
     "metadata": {},
     "outputs": [
      {
       "output_type": "pyout",
       "prompt_number": 116,
       "text": [
        "array([ 1.,  1.,  1.,  1.,  1.,  1.,  1.,  1.,  1.,  1.,  1.,  1.,  1.,\n",
        "        1.,  1.,  1.,  1.,  1.,  1.,  1.,  1.,  1.,  1.,  1.,  1.,  1.,\n",
        "        1.,  1.,  1.,  1.,  1.,  1.,  1.,  1.,  1.,  1.,  1.,  1.,  1.,\n",
        "        1.,  1.,  1.,  1.,  1.,  1.,  1.,  1.,  1.,  1.,  1.,  1.,  1.,\n",
        "        1.,  1.,  1.,  1.,  1.,  1.,  1.,  1.,  1.,  1.,  1.,  1.,  1.,\n",
        "        1.,  1.,  1.,  1.,  1.,  1.,  1.,  1.,  1.,  1.])"
       ]
      }
     ],
     "prompt_number": 116
    },
    {
     "cell_type": "heading",
     "level": 1,
     "metadata": {},
     "source": [
      "Inciso b"
     ]
    },
    {
     "cell_type": "markdown",
     "metadata": {},
     "source": [
      "El resultado es evidentemente incorrecto dado que elevar al cuadrado un n\u00famero ligeramente menor que uno, debe aproximarse r\u00e1pidamente a cero, por lo que el resultado num\u00e9rico anterior est\u00e1 mal, debido a que la m\u00e1quina no toma las cifras necesarias, perdiendo precisi\u00f3n..."
     ]
    },
    {
     "cell_type": "heading",
     "level": 1,
     "metadata": {},
     "source": [
      "Inciso c"
     ]
    },
    {
     "cell_type": "markdown",
     "metadata": {},
     "source": [
      "Para obtener el resultado correcto usamos una paqueter\u00eda de precisi\u00f3n arbitraria que haga que la m\u00e1quina reconozca a $1-10^{-20}$ como un n\u00famero menor que uno:"
     ]
    },
    {
     "cell_type": "code",
     "collapsed": false,
     "input": [
      "#Definiendo la condicion inicial con precisi\u00f3n arbitraria\n",
      "x=mp.mpf('1.0')-mp.mpf('1e-10')\n",
      "\n",
      "#Iterando:    \n",
      "iterator(sq,x,75)"
     ],
     "language": "python",
     "metadata": {},
     "outputs": [
      {
       "output_type": "pyout",
       "prompt_number": 117,
       "text": [
        "array([  1.00000000e+000,   1.00000000e+000,   9.99999999e-001,\n",
        "         9.99999998e-001,   9.99999997e-001,   9.99999994e-001,\n",
        "         9.99999987e-001,   9.99999974e-001,   9.99999949e-001,\n",
        "         9.99999898e-001,   9.99999795e-001,   9.99999590e-001,\n",
        "         9.99999181e-001,   9.99998362e-001,   9.99996723e-001,\n",
        "         9.99993446e-001,   9.99986893e-001,   9.99973786e-001,\n",
        "         9.99947573e-001,   9.99895148e-001,   9.99790307e-001,\n",
        "         9.99580658e-001,   9.99161491e-001,   9.98323685e-001,\n",
        "         9.96650180e-001,   9.93311581e-001,   9.86667896e-001,\n",
        "         9.73513538e-001,   9.47728608e-001,   8.98189515e-001,\n",
        "         8.06744404e-001,   6.50836534e-001,   4.23588194e-001,\n",
        "         1.79426958e-001,   3.21940332e-002,   1.03645577e-003,\n",
        "         1.07424057e-006,   1.15399280e-012,   1.33169938e-024,\n",
        "         1.77342323e-048,   3.14502995e-096,   9.89121338e-192,\n",
        "         0.00000000e+000,   0.00000000e+000,   0.00000000e+000,\n",
        "         0.00000000e+000,   0.00000000e+000,   0.00000000e+000,\n",
        "         0.00000000e+000,   0.00000000e+000,   0.00000000e+000,\n",
        "         0.00000000e+000,   0.00000000e+000,   0.00000000e+000,\n",
        "         0.00000000e+000,   0.00000000e+000,   0.00000000e+000,\n",
        "         0.00000000e+000,   0.00000000e+000,   0.00000000e+000,\n",
        "         0.00000000e+000,   0.00000000e+000,   0.00000000e+000,\n",
        "         0.00000000e+000,   0.00000000e+000,   0.00000000e+000,\n",
        "         0.00000000e+000,   0.00000000e+000,   0.00000000e+000,\n",
        "         0.00000000e+000,   0.00000000e+000,   0.00000000e+000,\n",
        "         0.00000000e+000,   0.00000000e+000,   0.00000000e+000])"
       ]
      }
     ],
     "prompt_number": 117
    },
    {
     "cell_type": "markdown",
     "metadata": {},
     "source": [
      "Ahora s\u00ed se observa el resultado correcto, tras elevar al cuadrado muchas veces un n\u00famero ligeramente menor a uno, \u00e9ste converge a cero."
     ]
    },
    {
     "cell_type": "markdown",
     "metadata": {},
     "source": [
      "**3.** *\"Hace muchos muchos a\u00f1os, en un reino muy lejano...\"*, se le ocurri\u00f3 a Arqu\u00edmedes un m\u00e9todo para determinar el valor num\u00e9rico de $\\pi$. El m\u00e9todo consiste en considerar dos pol\u00edgonos regulares de $n$ lados, uno inscrito y otro circunscrito al c\u00edrculo, y ver c\u00f3mo el \u00e1rea de estos acota por abajo y arriba el \u00e1rea del c\u00edrculo. \n",
      "\n",
      "a. Da las cotas (inferior y superior) al \u00e1rea del c\u00edrculo de radio 1, *al menos* cuando $n=4$, $5$ y $6$ (o sea, las cotas que se obtienen usando los siguientes pol\u00edgonos regulares:  el cuadrado, el pent\u00e1gono y el hex\u00e1gono). \n",
      "\n",
      "[Arqu\u00edmedes seguramente hizo esto de manera emp\u00edrica, construyendo los pol\u00edgonos; para este ejercicio se \n",
      "vale utilizar lo que sabes de geometr\u00eda y trigonometr\u00eda.]\n",
      "\n",
      "b. \u00bfSe te ocurre c\u00f3mo obtener las cotas para $\\pi$ usando un pol\u00edgono regular de $n$ lados?\n",
      "\n",
      "(\u00c9ste es el **Ejercicio 1.1** del Moore-Kearfortt (2009); la soluci\u00f3n que ellos dan me parece que est\u00e1 mal en la cota inferior.)"
     ]
    },
    {
     "cell_type": "heading",
     "level": 1,
     "metadata": {},
     "source": [
      "Funciones construidas para responder a los incisos del ejercicio 3"
     ]
    },
    {
     "cell_type": "markdown",
     "metadata": {},
     "source": [
      "La siguiente funci\u00f3n recibe como inputs el n\u00famero de lados de los pol\u00edgonos iniciales y el n\u00famero de iteraciones que se realizar\u00e1n con la relaci\u00f3n de recurrencia de Arqu\u00edmedes, si el n\u00famero de iteraciones es 1 el algoritmo imprimir\u00e1 solamente las cotas de $\\pi$ con ayuda de funciones trigonom\u00e9tricas, sin embargo usando la relaci\u00f3n de recurrencia, el n\u00famero de lados de los pol\u00edgonos funcionar\u00e1n como condiciones iniciales, y dado un n\u00famero de iteracion $k$ se imprimir\u00e1n las cotas usando pol\u00edgonos de $2^{k-1}\\cdot n$.\n",
      "\n",
      "El fundamento del algoritmo se explica m\u00e1s adelante."
     ]
    },
    {
     "cell_type": "code",
     "collapsed": false,
     "input": [
      "#inputs: numero de lados, pasos\n",
      "\n",
      "def pi_Arquimedes(n,steps):\n",
      "    if n<3:\n",
      "        print 'Esto no es un poligono'\n",
      "    else:     \n",
      "        a=2*n*mp.tan(mp.pi/n)\n",
      "        b=2*n*mp.sin(mp.pi/n)\n",
      "        for k in range(1,steps):\n",
      "            a=2*a*b/(a+b)\n",
      "            b=mp.sqrt(a*b)\n",
      "        print (b/2,a/2,(a+b)/4)"
     ],
     "language": "python",
     "metadata": {},
     "outputs": [],
     "prompt_number": 118
    },
    {
     "cell_type": "heading",
     "level": 1,
     "metadata": {},
     "source": [
      "Inciso a"
     ]
    },
    {
     "cell_type": "markdown",
     "metadata": {},
     "source": [
      "El centro de un pol\u00edgono de $n$ lados inscrito, es el centro de la circunferencia fuera de \u00e9l. Entonces cada v\u00e9rtice del pol\u00edgono, tocar\u00e1 la circunferencia. Entonces se formar\u00e1n $2n$ tri\u00e1ngulos rect\u00e1ngulos donde el \u00e1ngulo formado en el centro del pol\u00edgono, $\\alpha$, ser\u00e1 igual a $\\pi/n$. La hipotenusa medir\u00e1 $r$ (el radio del c\u00edrculo) y el cateto opuesto medir\u00e1 $l/2$, donde $l$ es lo que mide cada lado del pol\u00edgono, el cual es regular. Entonces usando funciones trigonom\u00e9tricas:\n",
      "\n",
      "\\begin{equation*}\n",
      "\\frac{c.o.}{h}= \\sin \\alpha\n",
      "\\end{equation*}\n",
      " \n",
      "como $r=h=1$, tenemos\n",
      "\n",
      "\\begin{equation*}\n",
      "c.o. = \\frac{l}{2}=\\sin \\alpha\n",
      "\\end{equation*}\n",
      "\n",
      "y por tanto el per\u00edmetro de un pol\u00edgono inscrito es\n",
      "\n",
      "\\begin{equation}\n",
      "b_n=2n \\sin \\frac{\\pi}{n}\n",
      "\\end{equation}\n"
     ]
    },
    {
     "cell_type": "markdown",
     "metadata": {},
     "source": [
      "Para un pol\u00edgono circunscrito, todos sus lados son tangentes a la circunferencia. Cada lado, toca el c\u00edrculo con el punto medio. Entonces se formar\u00e1n $2n$ tri\u00e1ngulos rect\u00e1ngulos, donde el \u00e1ngulo que se forma en el centro ser\u00e1 $\\alpha$. En este caso, el cateto aydacente ser\u00e1 igual al radio de la circunferencia y el cateto opuesto igual a $l/2$. Por tanto:\n",
      "\n",
      "\\begin{equation}\n",
      "\\frac{c.o.}{c.a.}=\\tan \\alpha\n",
      "\\end{equation}\n",
      "\n",
      "como $c.a.= r = 1$,  obtenemos:\n",
      "\n",
      "\\begin{equation}\n",
      "c.a. = \\frac{l}{2}= \\tan \\alpha\n",
      "\\end{equation}\n",
      "\n",
      "y para un pol\u00edgono circunscrito\n",
      "\n",
      "\\begin{equation}\n",
      "a_n=2n\\tan \\frac{\\pi}{n}\n",
      "\\end{equation}\n"
     ]
    },
    {
     "cell_type": "code",
     "collapsed": false,
     "input": [
      "# Por lo tanto la cota inferior y superior, y el promedio de ambos que aproximan a pi cuando se usan cuadrados es:\n",
      "\n",
      "pi_Arquimedes(4,1)"
     ],
     "language": "python",
     "metadata": {},
     "outputs": [
      {
       "output_type": "stream",
       "stream": "stdout",
       "text": [
        "(mpf('2.8284271247461898'), mpf('3.9999999999999996'), mpf('3.4142135623730949'))\n"
       ]
      }
     ],
     "prompt_number": 119
    },
    {
     "cell_type": "code",
     "collapsed": false,
     "input": [
      "#Cuando se usan pentagonos:\n",
      "\n",
      "pi_Arquimedes(5,1)"
     ],
     "language": "python",
     "metadata": {},
     "outputs": [
      {
       "output_type": "stream",
       "stream": "stdout",
       "text": [
        "(mpf('2.9389262614623659'), mpf('3.6327126400268046'), mpf('3.2858194507445853'))\n"
       ]
      }
     ],
     "prompt_number": 120
    },
    {
     "cell_type": "code",
     "collapsed": false,
     "input": [
      "#Cuando se usan hexagonos:\n",
      "\n",
      "pi_Arquimedes(6,1)"
     ],
     "language": "python",
     "metadata": {},
     "outputs": [
      {
       "output_type": "stream",
       "stream": "stdout",
       "text": [
        "(mpf('2.9999999999999996'), mpf('3.4641016151377544'), mpf('3.2320508075688767'))\n"
       ]
      }
     ],
     "prompt_number": 121
    },
    {
     "cell_type": "markdown",
     "metadata": {},
     "source": [
      "Sin embargo, podemos hacer el calculo con la relacion de recurrencia de arquimedes, tomando cualesquiera poligonos iniciales e iterando para aproximar $\\pi$:"
     ]
    },
    {
     "cell_type": "heading",
     "level": 1,
     "metadata": {},
     "source": [
      "F\u00f3rmula de recurrencia de Arqu\u00edmedes:"
     ]
    },
    {
     "cell_type": "markdown",
     "metadata": {},
     "source": [
      "Sean $a_n$ y $b_n$ los per\u00edmetros circunscrito e inscrito del $n$-gono, y $a_{2n}$, $b_{2n}$ los per\u00edmetros circunscrito e inscrito de $2n$-gono. Entonces:\n",
      "\n",
      "\\begin{equation}\n",
      "a_{2n}=\\frac{2a_nb_n}{a_n+b_n}\n",
      "\\end{equation}\n",
      "\n",
      "\\begin{equation}\n",
      "b_{2n}=\\sqrt{a_{2n}b_n}\n",
      "\\end{equation}\n",
      "\n",
      "Ahora, vamos a comprobar que esto es cierto, usando las f\u00f3rmulas anteriores para $a_n$ y $b_n$:\n",
      "\n",
      "\\begin{eqnarray}\n",
      "a_{2n}&=& \\frac{2\\cdot 2n \\sin \\alpha\\cdot 2n \\tan \\alpha}{2n(\\sin \\alpha+\\tan \\alpha)}\\\\\n",
      "&=& 4n\\frac{\\sin \\alpha \\cdot \\tan \\alpha}{\\sin \\alpha +\\tan \\alpha}\n",
      "\\end{eqnarray}\n",
      "\n",
      "usando la identidad\n",
      "\n",
      "\\begin{equation}\n",
      "\\tan \\left(\\frac{1}{2}x\\right) = \\frac{\\sin x \\cdot \\tan x}{\\sin x +\\tan x}\n",
      "\\end{equation}\n",
      "\n",
      "entonces\n",
      "\n",
      "\\begin{equation}\n",
      "\\frac{2a_nb_n}{a_n+b_n}=4n \\tan \\left(\\frac{\\alpha}{2}\\right)=4n \\tan \\left(\\frac{\\pi}{2n}\\right)=a_{2n}\n",
      "\\end{equation}\n",
      "\n",
      "ahora,la segunda f\u00f3rmula\n",
      "\n",
      "\\begin{equation}\n",
      "\\sqrt{a_{2n}b_n}=\\sqrt{4n\\tan(\\alpha/2)\\cdot 2n \\sin \\alpha}\n",
      "\\end{equation}\n",
      "\n",
      "usando la identidad\n",
      "\n",
      "\\begin{equation}\n",
      "\\sin x=2\\sin (x/2)\\cdot \\cos (x/2)\n",
      "\\end{equation}\n",
      "\n",
      "entonces \n",
      "\n",
      "\\begin{eqnarray}\n",
      "\\sqrt{a_{2n}b_n}&=& 4n\\sqrt{\\tan \\alpha/2 \\cdot \\sin \\alpha/2 \\cdot \\cos \\alpha/2} \\\\\n",
      "&=& 4n\\sin \\alpha/2\\\\\n",
      "&=& b_{2n}\n",
      "\\end{eqnarray}"
     ]
    },
    {
     "cell_type": "code",
     "collapsed": false,
     "input": [
      "#Tomando como condici\u00f3n inicial al cuadrado y haciendo 25 iteraciones obtenemos en el promedio una buena aproximaci\u00f3n de pi\n",
      "#lo que corresponde a las cotas con pol\u00edgonos de 67 108 864 lados\n",
      "\n",
      "pi_Arquimedes(4,25)"
     ],
     "language": "python",
     "metadata": {},
     "outputs": [
      {
       "output_type": "stream",
       "stream": "stdout",
       "text": [
        "(mpf('3.1415926535897909'), mpf('3.141592653589794'), mpf('3.1415926535897922'))\n"
       ]
      }
     ],
     "prompt_number": 122
    },
    {
     "cell_type": "markdown",
     "metadata": {},
     "source": [
      "Comenzar la iteraci\u00f3n con cuadrados evita totalmente el uso de $\\pi$ en el algoritmo (aunque en el programa general si se usa), ya que para calcular los per\u00edmetros de los cuadrados circunscritos e inscritos basta el teorema de Pit\u00e1goras, seguramente tambi\u00e9n para el pent\u00e1gono y el hex\u00e1gono, pero iniciar con el cuadrado es mucho m\u00e1s f\u00e1cil si no se usan funciones trigonom\u00e9tricas."
     ]
    }
   ],
   "metadata": {}
  }
 ]
}