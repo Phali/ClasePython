{
 "metadata": {
  "name": "Tarea02-Lorena_Nephtali_David"
 },
 "nbformat": 3,
 "nbformat_minor": 0,
 "worksheets": [
  {
   "cells": [
    {
     "cell_type": "heading",
     "level": 1,
     "metadata": {},
     "source": [
      "Tarea 2: Usando librer\u00edas de python"
     ]
    },
    {
     "cell_type": "markdown",
     "metadata": {},
     "source": [
      "**REGLAS:** (casi id\u00e9nticas a la semana anterior)\n",
      "\n",
      "- Usa Python para llevar a cabo las tareas\n",
      "\n",
      "- S\u00ed se permite el trabajo colaborativo, y de hecho se fomenta, pero se exige el uso de las neuronas de todos los que colaboren. Se vale entregar una sola tarea por grupo de 2 o (si es necesario) 3 personas.\n",
      "\n",
      "- La tarea se entrega como un *notebook* de IPython, y debe incluir notas, comentario y **TODO** lo est\u00e9ticamente necesario, que lo haga entendible para una tercer persona no involucrada en el curso. \n",
      "\n",
      "- Se recomienda usar una versi\u00f3n nueva de este mismo notebook, reemplazando \"[Respuestas aqu\u00ed]\" por tu discusi\u00f3n, c\u00f3digo, y resultados (en los tipos de celda que convengan, y con el n\u00famero de ellos que haga falta).\n",
      "\n",
      "- Cambia el nombre del notebook para reflejar el nombre que escojan para su grupo de trabajo, e.g. \"Tarea-01-profes\"\n",
      "\n",
      "- S\u00fabela a tu cuenta de github y haznos saber la direcci\u00f3n."
     ]
    },
    {
     "cell_type": "heading",
     "level": 2,
     "metadata": {},
     "source": [
      "Paquetes usados en el notebook"
     ]
    },
    {
     "cell_type": "code",
     "collapsed": false,
     "input": [
      "import matplotlib.pyplot as plt\n",
      "import numpy as np\n",
      "import sympy as sym\n",
      "from sympy.mpmath import *\n",
      "from sympy import Rational as Q"
     ],
     "language": "python",
     "metadata": {},
     "outputs": [],
     "prompt_number": 110
    },
    {
     "cell_type": "markdown",
     "metadata": {},
     "source": [
      "**1.** \n",
      "\n",
      "a. Eval\u00faa la funci\u00f3n racional\n",
      "$$\n",
      "R(x,y)= \\textstyle \\frac{33375}{100} y^6 + x^2 (11 x^2 y^2 - y^6 - 121 y^4 - 2) + \\frac{55}{10}y^8 + \\frac{x}{2 y}\n",
      "$$\n",
      "en los valores (enteros) $x=77617$ y $y=33096$. \n",
      "\n",
      "b. Verifica tu respuesta usando precisi\u00f3n extendida (librer\u00eda `mpmath` de `sympy`), digamos, con 30, 60, y 80 d\u00edgitos.\n",
      "\n",
      "c. Dado que se trata de una funci\u00f3n racional, uno esperar\u00eda que $R(77617,33096)$ sea un valor racional. \u00bfQu\u00e9 valor num\u00e9rico obtienes si utilizas la librer\u00eda `Rational` de `sympy`?\n"
     ]
    },
    {
     "cell_type": "heading",
     "level": 3,
     "metadata": {},
     "source": [
      "Inciso a"
     ]
    },
    {
     "cell_type": "markdown",
     "metadata": {},
     "source": [
      "En esta parte se define la funcion a evaluar:"
     ]
    },
    {
     "cell_type": "code",
     "collapsed": false,
     "input": [
      "def R(x,y):\n",
      "    return (33375.0/100)*(y**6)+(x**2)*(11.0*(x**2)*(y**2)-(y**6)-121.0*(y**4)-2)+(55.0/10)*(y**8)+x/(2*y)"
     ],
     "language": "python",
     "metadata": {},
     "outputs": [],
     "prompt_number": 149
    },
    {
     "cell_type": "code",
     "collapsed": false,
     "input": [
      "x=np.linspace(-100,100,1000)\n",
      "y=R(x,1)\n",
      "plt.figure()\n",
      "plt.plot(x,y)\n",
      "plt.show()"
     ],
     "language": "python",
     "metadata": {},
     "outputs": [
      {
       "output_type": "display_data",
       "png": "[encoded data removed]"
      }
     ],
     "prompt_number": 150
    },
    {
     "cell_type": "code",
     "collapsed": false,
     "input": [
      "#Evaluacion de la funcion\n",
      "\n",
      "R(77617,33096)"
     ],
     "language": "python",
     "metadata": {},
     "outputs": [
      {
       "output_type": "pyout",
       "prompt_number": 190,
       "text": [
        "-1.1805916207174113e+21"
       ]
      }
     ],
     "prompt_number": 190
    },
    {
     "cell_type": "heading",
     "level": 3,
     "metadata": {},
     "source": [
      "Inciso b"
     ]
    },
    {
     "cell_type": "markdown",
     "metadata": {},
     "source": [
      "Verificacion del resultado con la libreria mpmath, en comparacion con el resultado racional, se observa que con 30 cifras no nos hemos acercado al resultado correcto, de hecho, hasta 36 cifras nos acercamos"
     ]
    },
    {
     "cell_type": "code",
     "collapsed": false,
     "input": [
      "mp.dps=30\n",
      "print R(mpf(77617.0),mpf(33096.0))"
     ],
     "language": "python",
     "metadata": {},
     "outputs": [
      {
       "output_type": "stream",
       "stream": "stdout",
       "text": [
        "1.17260394005317863185883490452\n"
       ]
      }
     ],
     "prompt_number": 212
    },
    {
     "cell_type": "code",
     "collapsed": false,
     "input": [
      "mp.dps=36\n",
      "print R(mpf(77617.0),mpf(33096.0))"
     ],
     "language": "python",
     "metadata": {},
     "outputs": [
      {
       "output_type": "stream",
       "stream": "stdout",
       "text": [
        "-0.827396059946821368141165095479816292\n"
       ]
      }
     ],
     "prompt_number": 213
    },
    {
     "cell_type": "code",
     "collapsed": false,
     "input": [
      "mp.dps=60\n",
      "print R(mpf(77617.0),mpf(33096.0))"
     ],
     "language": "python",
     "metadata": {},
     "outputs": [
      {
       "output_type": "stream",
       "stream": "stdout",
       "text": [
        "-0.827396059946821368141165095479816291999033115784384819917815\n"
       ]
      }
     ],
     "prompt_number": 201
    },
    {
     "cell_type": "code",
     "collapsed": false,
     "input": [
      "mp.dps=80\n",
      "print R(mpf(77617.0),mpf(33096.0))"
     ],
     "language": "python",
     "metadata": {},
     "outputs": [
      {
       "output_type": "stream",
       "stream": "stdout",
       "text": [
        "-0.82739605994682136814116509547981629199903311578438481991781484167270969301426154\n"
       ]
      }
     ],
     "prompt_number": 202
    },
    {
     "cell_type": "heading",
     "level": 2,
     "metadata": {},
     "source": [
      "Inciso c"
     ]
    },
    {
     "cell_type": "code",
     "collapsed": false,
     "input": [
      "#Definicion de la funcion usando la libreria Rational\n",
      "\n",
      "def RQ(x,y):\n",
      "    return Q(33375,100)*y**6+x**2*(Q(11)*x**2*y**2-y**6-Q(121)*y**4-Q(2))+Q(55,10)*y**8+Q(x,2*y)"
     ],
     "language": "python",
     "metadata": {},
     "outputs": [],
     "prompt_number": 152
    },
    {
     "cell_type": "code",
     "collapsed": false,
     "input": [
      "#Evaluacion de la funcion expresando el valor en forma racional\n",
      "\n",
      "RQ(77617,33096)"
     ],
     "language": "python",
     "metadata": {},
     "outputs": [
      {
       "output_type": "pyout",
       "prompt_number": 195,
       "text": [
        "-54767/66192"
       ]
      }
     ],
     "prompt_number": 195
    },
    {
     "cell_type": "code",
     "collapsed": false,
     "input": [
      "mpf(_)"
     ],
     "language": "python",
     "metadata": {},
     "outputs": [
      {
       "output_type": "pyout",
       "prompt_number": 196,
       "text": [
        "mpf('-0.82739605994682136814116509547981629199903311578438481991781484167270969301426154208')"
       ]
      }
     ],
     "prompt_number": 196
    },
    {
     "cell_type": "markdown",
     "metadata": {},
     "source": [
      "**2.** \n",
      "\n",
      "Eval\u00faa num\u00e9ricamente (usando herramientas de Python) la integral\n",
      "$$\n",
      "I_1 = \\int_0^1 \\frac{1}{\\sqrt{\\pi}} \\exp \\left( -x^2 \\right) \\, dx\n",
      "$$"
     ]
    },
    {
     "cell_type": "markdown",
     "metadata": {},
     "source": [
      "*[Respuestas aqu\u00ed]*"
     ]
    },
    {
     "cell_type": "markdown",
     "metadata": {},
     "source": [
      "**3.** \n",
      "\n",
      "a. Dibuja la funci\u00f3n \n",
      "$$\n",
      "f(x) = x^{-1} \\cos \\left( x^{-1} \\log{x} \\right)\n",
      "$$\n",
      "en el intervalo [0,1].\n",
      "\n",
      "b. Calcula ahora el *valor num\u00e9rico* de\n",
      "$$\n",
      "\\lim_{\\epsilon\\to 0} \\int_\\epsilon^1 f(x) \\, dx\n",
      "$$\n",
      "\n",
      "c. \u00bfC\u00f3mo podr\u00edas verificar si el valor num\u00e9rico que obtuviste es correcto en 10 decimales?"
     ]
    },
    {
     "cell_type": "code",
     "collapsed": false,
     "input": [
      "x=np.linspace(0.000001,1,100000)\n",
      "y=np.cos(np.log(x)/x)/x"
     ],
     "language": "python",
     "metadata": {},
     "outputs": [],
     "prompt_number": 6
    },
    {
     "cell_type": "code",
     "collapsed": false,
     "input": [
      "plt.figure()\n",
      "plt.xlim(0,1)\n",
      "plt.ylim(-15,15)\n",
      "plt.plot(x,y)\n",
      "plt.ylabel('$ x^{-1}\\cos ( x^{-1} \\log x ) $',fontsize=20)\n",
      "plt.xlabel('$x$',fontsize=20)\n",
      "plt.show()"
     ],
     "language": "python",
     "metadata": {},
     "outputs": [
      {
       "output_type": "display_data",
       "png": "[encoded data removed]"
      }
     ],
     "prompt_number": 8
    },
    {
     "cell_type": "heading",
     "level": 3,
     "metadata": {},
     "source": [
      "Inciso b:"
     ]
    },
    {
     "cell_type": "code",
     "collapsed": false,
     "input": [
      "mp.dps=50\n",
      "inter=np.linspace(0.00000001,1,100)\n",
      "result = mp.quad(lambda x: mp.cos(mp.log(x)/x)/x, [0,1] ,error=True, method='gauss-legendre',maxdegree=10)\n",
      "print result"
     ],
     "language": "python",
     "metadata": {},
     "outputs": []
    },
    {
     "cell_type": "markdown",
     "metadata": {},
     "source": [
      "**4.**\n",
      "\n",
      "Completa las operaciones aritm\u00e9ticas (resta, multiplicaci\u00f3n y divisi\u00f3n) para la clase `Intervalo` que definimos en clase."
     ]
    },
    {
     "cell_type": "code",
     "collapsed": false,
     "input": [
      "np.cos(3)"
     ],
     "language": "python",
     "metadata": {},
     "outputs": [
      {
       "output_type": "pyout",
       "prompt_number": 15,
       "text": [
        "-0.98999249660044542"
       ]
      }
     ],
     "prompt_number": 15
    },
    {
     "cell_type": "code",
     "collapsed": false,
     "input": [
      "np.log(2)"
     ],
     "language": "python",
     "metadata": {},
     "outputs": [
      {
       "output_type": "pyout",
       "prompt_number": 16,
       "text": [
        "0.69314718055994529"
       ]
      }
     ],
     "prompt_number": 16
    },
    {
     "cell_type": "code",
     "collapsed": false,
     "input": [],
     "language": "python",
     "metadata": {},
     "outputs": []
    }
   ],
   "metadata": {}
  }
 ]
}