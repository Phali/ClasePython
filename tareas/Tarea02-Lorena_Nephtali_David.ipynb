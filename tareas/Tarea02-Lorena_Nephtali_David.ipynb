{
 "metadata": {
  "name": "Tarea02-Lorena_Nephtali_David"
 },
 "nbformat": 3,
 "nbformat_minor": 0,
 "worksheets": [
  {
   "cells": [
    {
     "cell_type": "heading",
     "level": 1,
     "metadata": {},
     "source": [
      "Tarea 2: Usando librer\u00edas de python"
     ]
    },
    {
     "cell_type": "markdown",
     "metadata": {},
     "source": [
      "**REGLAS:** (casi id\u00e9nticas a la semana anterior)\n",
      "\n",
      "- Usa Python para llevar a cabo las tareas\n",
      "\n",
      "- S\u00ed se permite el trabajo colaborativo, y de hecho se fomenta, pero se exige el uso de las neuronas de todos los que colaboren. Se vale entregar una sola tarea por grupo de 2 o (si es necesario) 3 personas.\n",
      "\n",
      "- La tarea se entrega como un *notebook* de IPython, y debe incluir notas, comentario y **TODO** lo est\u00e9ticamente necesario, que lo haga entendible para una tercer persona no involucrada en el curso. \n",
      "\n",
      "- Se recomienda usar una versi\u00f3n nueva de este mismo notebook, reemplazando \"[Respuestas aqu\u00ed]\" por tu discusi\u00f3n, c\u00f3digo, y resultados (en los tipos de celda que convengan, y con el n\u00famero de ellos que haga falta).\n",
      "\n",
      "- Cambia el nombre del notebook para reflejar el nombre que escojan para su grupo de trabajo, e.g. \"Tarea-01-profes\"\n",
      "\n",
      "- S\u00fabela a tu cuenta de github y haznos saber la direcci\u00f3n."
     ]
    },
    {
     "cell_type": "markdown",
     "metadata": {},
     "source": [
      "**1.** \n",
      "\n",
      "a. Eval\u00faa la funci\u00f3n racional\n",
      "$$\n",
      "R(x,y)= \\textstyle \\frac{33375}{100} y^6 + x^2 (11 x^2 y^2 - y^6 - 121 y^4 - 2) + \\frac{55}{10}y^8 + \\frac{x}{2 y}\n",
      "$$\n",
      "en los valores (enteros) $x=77617$ y $y=33096$. \n",
      "\n",
      "b. Verifica tu respuesta usando precisi\u00f3n extendida (librer\u00eda `mpmath` de `sympy`), digamos, con 30, 60, y 80 d\u00edgitos.\n",
      "\n",
      "c. Dado que se trata de una funci\u00f3n racional, uno esperar\u00eda que $R(77617,33096)$ sea un valor racional. \u00bfQu\u00e9 valor num\u00e9rico obtienes si utilizas la librer\u00eda `Rational` de `sympy`?\n"
     ]
    },
    {
     "cell_type": "code",
     "collapsed": false,
     "input": [
      "import sympy as sym\n",
      "from sympy import mpmath as mp\n",
      "from sympy import Rational as Q\n",
      "sym.init_printing()"
     ],
     "language": "python",
     "metadata": {},
     "outputs": [],
     "prompt_number": 1
    },
    {
     "cell_type": "code",
     "collapsed": false,
     "input": [
      "x=sym.symbols('x')\n",
      "y=sym.symbols('y')"
     ],
     "language": "python",
     "metadata": {},
     "outputs": [],
     "prompt_number": 2
    },
    {
     "cell_type": "code",
     "collapsed": false,
     "input": [
      "def R(x,y):\n",
      "    return 333375/100*y**6 +x**2*(11*x**2*y**2-y**6-121*y*4-2)+55/10*y**8+x/(2*y)"
     ],
     "language": "python",
     "metadata": {},
     "outputs": [],
     "prompt_number": 3
    },
    {
     "cell_type": "code",
     "collapsed": false,
     "input": [
      "R(77617,33096)"
     ],
     "language": "python",
     "metadata": {},
     "outputs": [
      {
       "output_type": "pyout",
       "png": "[encoded data removed]",
       "prompt_number": 17,
       "text": [
        "-719732578485144232656660399997143073L"
       ]
      }
     ],
     "prompt_number": 17
    },
    {
     "cell_type": "code",
     "collapsed": false,
     "input": [
      "mp.nprint(mp.mpf(R(77617,33096)),100)"
     ],
     "language": "python",
     "metadata": {},
     "outputs": [
      {
       "output_type": "stream",
       "stream": "stdout",
       "text": [
        "-719732578485144228106052392724725760.0\n"
       ]
      }
     ],
     "prompt_number": 16
    },
    {
     "cell_type": "code",
     "collapsed": false,
     "input": [
      "x=mp.mpf('77617')\n",
      "y=mp.mpf('33096')\n",
      "mp.nprint(R(x,y),100)"
     ],
     "language": "python",
     "metadata": {},
     "outputs": [
      {
       "output_type": "stream",
       "stream": "stdout",
       "text": [
        "-719732578485145703845578289488855040.0\n"
       ]
      }
     ],
     "prompt_number": 15
    },
    {
     "cell_type": "code",
     "collapsed": false,
     "input": [],
     "language": "python",
     "metadata": {},
     "outputs": [],
     "prompt_number": 17
    },
    {
     "cell_type": "markdown",
     "metadata": {},
     "source": [
      "**2.** \n",
      "\n",
      "Eval\u00faa num\u00e9ricamente (usando herramientas de Python) la integral\n",
      "$$\n",
      "I_1 = \\int_0^1 \\frac{1}{\\sqrt{\\pi}} \\exp \\left( -x^2 \\right) \\, dx\n",
      "$$"
     ]
    },
    {
     "cell_type": "markdown",
     "metadata": {},
     "source": [
      "*[Respuestas aqu\u00ed]*"
     ]
    },
    {
     "cell_type": "markdown",
     "metadata": {},
     "source": [
      "**3.** \n",
      "\n",
      "a. Dibuja la funci\u00f3n \n",
      "$$\n",
      "f(x) = x^{-1} \\cos \\left( x^{-1} \\log{x} \\right)\n",
      "$$\n",
      "en el intervalo [0,1].\n",
      "\n",
      "b. Calcula ahora el *valor num\u00e9rico* de\n",
      "$$\n",
      "\\lim_{\\epsilon\\to 0} \\int_\\epsilon^1 f(x) \\, dx\n",
      "$$\n",
      "\n",
      "c. \u00bfC\u00f3mo podr\u00edas verificar si el valor num\u00e9rico que obtuviste es correcto en 10 decimales?"
     ]
    },
    {
     "cell_type": "code",
     "collapsed": false,
     "input": [
      "x=linspace(0.000001,1,100000)\n",
      "y=cos(log(x)/x)/x"
     ],
     "language": "python",
     "metadata": {},
     "outputs": [],
     "prompt_number": 35
    },
    {
     "cell_type": "code",
     "collapsed": false,
     "input": [
      "figure()\n",
      "xlim(0,1)\n",
      "ylim(-10,10)\n",
      "plot(x,y)\n",
      "ylabel('$ x^{-1}\\cos ( x^{-1} \\log x ) $',fontsize=20)\n",
      "xlabel('$x$',fontsize=20)\n",
      "show()"
     ],
     "language": "python",
     "metadata": {},
     "outputs": [
      {
       "output_type": "display_data",
       "png": "[encoded data removed]"
      }
     ],
     "prompt_number": 64
    },
    {
     "cell_type": "code",
     "collapsed": false,
     "input": [
      "plt.x"
     ],
     "language": "python",
     "metadata": {},
     "outputs": [
      {
       "output_type": "stream",
       "stream": "stdout",
       "text": [
        "Object `plotxlim` not found.\n"
       ]
      }
     ],
     "prompt_number": 32
    },
    {
     "cell_type": "markdown",
     "metadata": {},
     "source": [
      "**4.**\n",
      "\n",
      "Completa las operaciones aritm\u00e9ticas (resta, multiplicaci\u00f3n y divisi\u00f3n) para la clase `Intervalo` que definimos en clase."
     ]
    },
    {
     "cell_type": "code",
     "collapsed": false,
     "input": [],
     "language": "python",
     "metadata": {},
     "outputs": [
      {
       "output_type": "stream",
       "stream": "stdout",
       "text": [
        "Tarea01-David-Lorena.ipynb  Tarea02-Lorena_Nephtali_David.ipynb\r\n"
       ]
      }
     ],
     "prompt_number": 65
    },
    {
     "cell_type": "code",
     "collapsed": false,
     "input": [],
     "language": "python",
     "metadata": {},
     "outputs": []
    }
   ],
   "metadata": {}
  }
 ]
}