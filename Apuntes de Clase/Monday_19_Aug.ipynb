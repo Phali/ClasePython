{
 "metadata": {
  "name": "Monday_19_Aug"
 },
 "nbformat": 3,
 "nbformat_minor": 0,
 "worksheets": [
  {
   "cells": [
    {
     "cell_type": "code",
     "collapsed": false,
     "input": [
      "import numpy as np\n",
      "\n",
      "import matplotlib.pyplot as plt\n",
      "\n",
      "import scipy as sci\n",
      "\n",
      "import sympy as py\n",
      "\n",
      "import mpmath as mp"
     ],
     "language": "python",
     "metadata": {},
     "outputs": [
      {
       "ename": "ImportError",
       "evalue": "No module named mpmath",
       "output_type": "pyerr",
       "traceback": [
        "\u001b[0;31m---------------------------------------------------------------------------\u001b[0m\n\u001b[0;31mImportError\u001b[0m                               Traceback (most recent call last)",
        "\u001b[0;32m<ipython-input-9-e74dd087e893>\u001b[0m in \u001b[0;36m<module>\u001b[0;34m()\u001b[0m\n\u001b[1;32m      7\u001b[0m \u001b[0;32mimport\u001b[0m \u001b[0msympy\u001b[0m \u001b[0;32mas\u001b[0m \u001b[0mpy\u001b[0m\u001b[0;34m\u001b[0m\u001b[0m\n\u001b[1;32m      8\u001b[0m \u001b[0;34m\u001b[0m\u001b[0m\n\u001b[0;32m----> 9\u001b[0;31m \u001b[0;32mimport\u001b[0m \u001b[0mmpmath\u001b[0m \u001b[0;32mas\u001b[0m \u001b[0mmp\u001b[0m\u001b[0;34m\u001b[0m\u001b[0m\n\u001b[0m",
        "\u001b[0;31mImportError\u001b[0m: No module named mpmath"
       ]
      }
     ],
     "prompt_number": 9
    },
    {
     "cell_type": "code",
     "collapsed": false,
     "input": [
      "fig,ax=plt.subplots()"
     ],
     "language": "python",
     "metadata": {},
     "outputs": [
      {
       "output_type": "display_data",
       "png": "[encoded data removed]"
      }
     ],
     "prompt_number": 22
    },
    {
     "cell_type": "code",
     "collapsed": false,
     "input": [
      "x=np.linspace(-100,100,10)\n",
      "y=x**2"
     ],
     "language": "python",
     "metadata": {},
     "outputs": [],
     "prompt_number": 72
    },
    {
     "cell_type": "code",
     "collapsed": false,
     "input": [
      "print y[:10]"
     ],
     "language": "python",
     "metadata": {},
     "outputs": [
      {
       "output_type": "stream",
       "stream": "stdout",
       "text": [
        "[ 10000.           9999.6          9999.200008     9998.800024\n",
        "   9998.400048     9998.00008      9997.60012      9997.200168\n",
        "   9996.800224     9996.40028801]\n"
       ]
      }
     ],
     "prompt_number": 17
    },
    {
     "cell_type": "code",
     "collapsed": false,
     "input": [
      "fig,ax.plot(x,y)"
     ],
     "language": "python",
     "metadata": {},
     "outputs": [
      {
       "output_type": "pyout",
       "prompt_number": 23,
       "text": [
        "(<matplotlib.figure.Figure at 0x4c74790>,\n",
        " [<matplotlib.lines.Line2D at 0x4be6d10>])"
       ]
      }
     ],
     "prompt_number": 23
    },
    {
     "cell_type": "code",
     "collapsed": false,
     "input": [
      "plt.show()"
     ],
     "language": "python",
     "metadata": {},
     "outputs": [],
     "prompt_number": 25
    },
    {
     "cell_type": "code",
     "collapsed": false,
     "input": [
      "plt.figure()\n",
      "\n",
      "plt.xlabel('$x$',fontsize=20)\n",
      "\n",
      "plt.ylabel('$x^2$',fontsize=20)\n",
      "\n",
      "plt.title('Parabola',fontsize=15)\n",
      "\n",
      "plt.text(0,6000,'aqui')\n",
      "\n",
      "plt.plot(x,y)\n",
      "\n",
      "plt.show()"
     ],
     "language": "python",
     "metadata": {},
     "outputs": [
      {
       "output_type": "display_data",
       "png": "[encoded data removed]"
      }
     ],
     "prompt_number": 40
    },
    {
     "cell_type": "code",
     "collapsed": false,
     "input": [
      "t=np.linspace(0,10,1000)"
     ],
     "language": "python",
     "metadata": {},
     "outputs": [],
     "prompt_number": 41
    },
    {
     "cell_type": "code",
     "collapsed": false,
     "input": [
      "x=np.cos(t)\n",
      "y=np.sin(t)"
     ],
     "language": "python",
     "metadata": {},
     "outputs": [],
     "prompt_number": 42
    },
    {
     "cell_type": "code",
     "collapsed": false,
     "input": [
      "plt.figure()\n",
      "\n",
      "plt.title('Circulo',fontsize=15)\n",
      "\n",
      "plt.axis('scaled')\n",
      "\n",
      "plt.xlim(-1.1,1.1)\n",
      "\n",
      "plt.ylim(-1.1,1.1)\n",
      "\n",
      "plt.plot(x,y)\n",
      "\n",
      "plt.plot(0,0,'o',c='r',markersize=4)\n",
      "\n",
      "plt.show()"
     ],
     "language": "python",
     "metadata": {},
     "outputs": [
      {
       "output_type": "display_data",
       "png": "[encoded data removed]"
      }
     ],
     "prompt_number": 69
    },
    {
     "cell_type": "code",
     "collapsed": false,
     "input": [
      "l=[x,y]\n",
      "l=np.column_stack(l)"
     ],
     "language": "python",
     "metadata": {},
     "outputs": [],
     "prompt_number": 76
    },
    {
     "cell_type": "code",
     "collapsed": false,
     "input": [
      "np.savetxt('cuad.txt',l)"
     ],
     "language": "python",
     "metadata": {},
     "outputs": [],
     "prompt_number": 77
    },
    {
     "cell_type": "code",
     "collapsed": false,
     "input": [
      "!cat cuad.txt"
     ],
     "language": "python",
     "metadata": {},
     "outputs": [
      {
       "output_type": "stream",
       "stream": "stdout",
       "text": [
        "-1.000000000000000000e+02 1.000000000000000000e+04\r\n",
        "-7.777777777777777146e+01 6.049382716049381997e+03\r\n",
        "-5.555555555555555713e+01 3.086419753086419860e+03\r\n",
        "-3.333333333333334281e+01 1.111111111111111768e+03\r\n",
        "-1.111111111111111427e+01 1.234567901234568552e+02\r\n",
        "1.111111111111111427e+01 1.234567901234568552e+02\r\n",
        "3.333333333333331439e+01 1.111111111111109949e+03\r\n",
        "5.555555555555554292e+01 3.086419753086418496e+03\r\n",
        "7.777777777777777146e+01 6.049382716049381997e+03\r\n",
        "1.000000000000000000e+02 1.000000000000000000e+04\r\n"
       ]
      }
     ],
     "prompt_number": 79
    },
    {
     "cell_type": "code",
     "collapsed": false,
     "input": [
      "ll=np.loadtxt('cuad.txt')"
     ],
     "language": "python",
     "metadata": {},
     "outputs": [],
     "prompt_number": 82
    },
    {
     "cell_type": "code",
     "collapsed": false,
     "input": [
      "ll"
     ],
     "language": "python",
     "metadata": {},
     "outputs": [
      {
       "output_type": "pyout",
       "prompt_number": 83,
       "text": [
        "array([[  -100.        ,  10000.        ],\n",
        "       [   -77.77777778,   6049.38271605],\n",
        "       [   -55.55555556,   3086.41975309],\n",
        "       [   -33.33333333,   1111.11111111],\n",
        "       [   -11.11111111,    123.45679012],\n",
        "       [    11.11111111,    123.45679012],\n",
        "       [    33.33333333,   1111.11111111],\n",
        "       [    55.55555556,   3086.41975309],\n",
        "       [    77.77777778,   6049.38271605],\n",
        "       [   100.        ,  10000.        ]])"
       ]
      }
     ],
     "prompt_number": 83
    },
    {
     "cell_type": "code",
     "collapsed": false,
     "input": [
      "x=ll[:,0]\n",
      "y=ll[:,1]"
     ],
     "language": "python",
     "metadata": {},
     "outputs": [],
     "prompt_number": 85
    },
    {
     "cell_type": "code",
     "collapsed": false,
     "input": [
      "x"
     ],
     "language": "python",
     "metadata": {},
     "outputs": [
      {
       "output_type": "pyout",
       "prompt_number": 86,
       "text": [
        "array([-100.        ,  -77.77777778,  -55.55555556,  -33.33333333,\n",
        "        -11.11111111,   11.11111111,   33.33333333,   55.55555556,\n",
        "         77.77777778,  100.        ])"
       ]
      }
     ],
     "prompt_number": 86
    },
    {
     "cell_type": "heading",
     "level": 1,
     "metadata": {},
     "source": [
      "Sympy"
     ]
    },
    {
     "cell_type": "code",
     "collapsed": false,
     "input": [
      "from sympy import *"
     ],
     "language": "python",
     "metadata": {},
     "outputs": [],
     "prompt_number": 94
    },
    {
     "cell_type": "code",
     "collapsed": false,
     "input": [
      "del x"
     ],
     "language": "python",
     "metadata": {},
     "outputs": [
      {
       "ename": "NameError",
       "evalue": "name 'x' is not defined",
       "output_type": "pyerr",
       "traceback": [
        "\u001b[0;31m---------------------------------------------------------------------------\u001b[0m\n\u001b[0;31mNameError\u001b[0m                                 Traceback (most recent call last)",
        "\u001b[0;32m<ipython-input-95-5d9e5a238a5e>\u001b[0m in \u001b[0;36m<module>\u001b[0;34m()\u001b[0m\n\u001b[0;32m----> 1\u001b[0;31m \u001b[0;32mdel\u001b[0m \u001b[0mx\u001b[0m\u001b[0;34m\u001b[0m\u001b[0m\n\u001b[0m",
        "\u001b[0;31mNameError\u001b[0m: name 'x' is not defined"
       ]
      }
     ],
     "prompt_number": 95
    },
    {
     "cell_type": "code",
     "collapsed": false,
     "input": [
      "x=symbols('x')"
     ],
     "language": "python",
     "metadata": {},
     "outputs": [],
     "prompt_number": 143
    },
    {
     "cell_type": "code",
     "collapsed": false,
     "input": [
      "init_printing(pretty_print=True)"
     ],
     "language": "python",
     "metadata": {},
     "outputs": [],
     "prompt_number": 138
    },
    {
     "cell_type": "code",
     "collapsed": false,
     "input": [
      "x**2"
     ],
     "language": "python",
     "metadata": {},
     "outputs": [
      {
       "output_type": "pyout",
       "prompt_number": 145,
       "text": [
        "x**2"
       ]
      }
     ],
     "prompt_number": 145
    },
    {
     "cell_type": "code",
     "collapsed": false,
     "input": [
      "x"
     ],
     "language": "python",
     "metadata": {},
     "outputs": [
      {
       "output_type": "pyout",
       "prompt_number": 144,
       "text": [
        "x"
       ]
      }
     ],
     "prompt_number": 144
    },
    {
     "cell_type": "code",
     "collapsed": false,
     "input": [
      "s=sin(x)"
     ],
     "language": "python",
     "metadata": {},
     "outputs": [],
     "prompt_number": 126
    },
    {
     "cell_type": "code",
     "collapsed": false,
     "input": [
      "s.series(x,0,11).removeO()"
     ],
     "language": "python",
     "metadata": {},
     "outputs": [
      {
       "output_type": "pyout",
       "prompt_number": 132,
       "text": [
        "x**9/362880 - x**7/5040 + x**5/120 - x**3/6 + x"
       ]
      }
     ],
     "prompt_number": 132
    },
    {
     "cell_type": "code",
     "collapsed": false,
     "input": [
      "s.series(x,0,11)"
     ],
     "language": "python",
     "metadata": {},
     "outputs": [
      {
       "output_type": "pyout",
       "prompt_number": 142,
       "text": [
        "x - x**3/6 + x**5/120 - x**7/5040 + x**9/362880 + O(x**11)"
       ]
      }
     ],
     "prompt_number": 142
    },
    {
     "cell_type": "code",
     "collapsed": false,
     "input": [
      "Rational(0.5)"
     ],
     "language": "python",
     "metadata": {},
     "outputs": [
      {
       "output_type": "pyout",
       "prompt_number": 136,
       "text": [
        "0"
       ]
      }
     ],
     "prompt_number": 136
    },
    {
     "cell_type": "code",
     "collapsed": false,
     "input": [
      "init_printing(pretty_print=True, order=None, use_unicode=None, wrap_line=None, no_global=False, ip=None)"
     ],
     "language": "python",
     "metadata": {},
     "outputs": [],
     "prompt_number": 141
    },
    {
     "cell_type": "heading",
     "level": 1,
     "metadata": {},
     "source": [
      "Precision Arbitraria"
     ]
    },
    {
     "cell_type": "code",
     "collapsed": false,
     "input": [
      "from sympy.mpmath import *"
     ],
     "language": "python",
     "metadata": {},
     "outputs": [],
     "prompt_number": 147
    },
    {
     "cell_type": "code",
     "collapsed": false,
     "input": [
      "mp.dps"
     ],
     "language": "python",
     "metadata": {},
     "outputs": [
      {
       "output_type": "pyout",
       "prompt_number": 148,
       "text": [
        "15"
       ]
      }
     ],
     "prompt_number": 148
    },
    {
     "cell_type": "code",
     "collapsed": false,
     "input": [
      "x=mpf('1.0')"
     ],
     "language": "python",
     "metadata": {},
     "outputs": [],
     "prompt_number": 154
    },
    {
     "cell_type": "code",
     "collapsed": false,
     "input": [
      "x"
     ],
     "language": "python",
     "metadata": {},
     "outputs": [
      {
       "output_type": "pyout",
       "prompt_number": 155,
       "text": [
        "mpf('1.0')"
       ]
      }
     ],
     "prompt_number": 155
    },
    {
     "cell_type": "code",
     "collapsed": false,
     "input": [
      "pi"
     ],
     "language": "python",
     "metadata": {},
     "outputs": [
      {
       "output_type": "pyout",
       "prompt_number": 156,
       "text": [
        "<pi: 3.14159~>"
       ]
      }
     ],
     "prompt_number": 156
    },
    {
     "cell_type": "code",
     "collapsed": false,
     "input": [
      "nprint(pi,5000)"
     ],
     "language": "python",
     "metadata": {},
     "outputs": [
      {
       "output_type": "stream",
       "stream": "stdout",
       "text": [
        "3.1415926535897932384626433832795028841971693993751058209749445923078164062862089986280348253421170679792791937115226692085949465490548709839060209231597619246425874000113324538054221467726677465625349950296903118215865071443907786151663060075955120126173659262766750659125674523023863213779427634719798589912898023612797260284423828125\n"
       ]
      }
     ],
     "prompt_number": 159
    },
    {
     "cell_type": "code",
     "collapsed": false,
     "input": [
      "mp.dps=10000"
     ],
     "language": "python",
     "metadata": {},
     "outputs": [],
     "prompt_number": 166
    },
    {
     "cell_type": "code",
     "collapsed": false,
     "input": [
      "nprint(pi,1000)"
     ],
     "language": "python",
     "metadata": {},
     "outputs": [
      {
       "output_type": "stream",
       "stream": "stdout",
       "text": [
        "3.1415926535897932384626433832795028841971693993751058209749445923078164062862089986280348253421170679792791937115226692085949465490548709839060209231597619246425874000113324538054221467726677465625349950296903118215865071443907786151663060075955120126173659262766750659125674523023863213779427634719798589912898023612797260284423828125\n"
       ]
      }
     ],
     "prompt_number": 164
    },
    {
     "cell_type": "code",
     "collapsed": false,
     "input": [
      "sqrt(2.0)"
     ],
     "language": "python",
     "metadata": {},
     "outputs": [
      {
       "output_type": "pyout",
       "prompt_number": 169,
       "text": [
        "mpf('1.414213562373095048801688724209698078569671875376948073176679737990732478462107038850387534327641572735013846230912297024924836055850737212644121497099935831413222665927505592755799950501152782060571470109559971605970274534596862014728517418640889198609552329230484308714321450839762603627995251407989687253396546331808829640620615258352395054745750287759961729835575220337531857011354374603408498847160386899970699004815030544027790316454247823068492936918621580578463111596668713013015618568987237235288509264861249497715421833420428568606014682472077143585487415565706967765372022648544701585880162075847492265722600208558446652145839889394437092659180031138824646815708263010059485870400318648034219489727829064104507263688131373985525611732204024509122770022694112757362728049573810896750401836986836845072579936472906076299694138047565482372899718032680247442062926912485905218100445984215059112024944134172853147810580360337107730918286931471017111168391658172688941975871658215212822951848847208969463386289156288276595263514054226765323969461751129160240871551013515045538128756005263146801712740265396947024030051749531886292563138518816347800156936917688185237868405228783762938921430065586956868596459515550164472450983689603688732311438941557665104088391429233811320605243362948531704991577175622854974143899918802176243096520656421182731672625753959471725593463723863226148274262220867115583959992652117625269891754098815934864008345708518147223181420407042650905653233339843645786579679651926729239987536661721598257886026336361782749599421940377775368142621773879919455139723127406689832998989538672882285637869774966251996658352577619893932284534473569479496295216889148549253890475582883452609652409654288939453864662574492755638196441031697983306185201937938494005715633372054806854057586799967012137223947582142630658513221740883238294728761739364746783743196000159218880734785761725221186749042497736692920731109636972160893370866115673458533483329525467585164471075784860246360083444911481858765555428645512331421992631133251797060843655970435285641008791850076036100915946567067688360557174007675690509613671940132493560524018599910506210816359772643138060546701029356997104242510578174953105725593498445112692278034491350663756874776028316282960553242242695753452902883876844642917328277088831808702533985233812274999081237189254072647536785030482159180188616710897286922920119759988070381854333253646021108229927929307287178079988809917674177410898306080032631181642798823117154363869661702999934161614878686018045505553986913115186010386375325004558186044804075024119518430567453368361367459737442398855328517930896037389891517319587413442881784212502191695187559344438739618931454999990610758704909026088351763622474975785885836803745793115733980209998662218694992259591327642361941059210032802614987456659968887406795616739185957288864247346358588686449682238600698335264279905628316561391394255764906206518602164726303336297507569787060660685649816009271870929215313236828135698893709741650447459096053747279652447709409924123871061447054398674364733847745481910087288622214958952959118789214917983398108378827815306556231581036064867587303601450227320882935134138722768417667843690529428698490838455744579409598626074249954916802853077398938296036213353987532050919989360751390644449576845699347127636450716327915470159773354863893942325727754003826027478567417258095141630715959784981800944356037939098559016827215403458158152100493666295344882710729239660232163823826661262683050257278116945103537937156882336593229782319298606467978986409208560955814261436363100461559433255047449397593399912541953230093217530447653396470662761166175351875464620967634558738616488019884849747926404506544489691004079421181692579685756378488149898641685499491635761448404702103398921534237703723335311564594438970365316672194904935188290580630740134686264167247011065346349391640714628556798017793381442404526913706660977763878486623800339232437047411533187253190601916599645538115788841380843323210533767461812178014296092832411362752540887372905129407339479433061943956936702079429515878228349321931666411130154959469837897767434443539337709957134988407890850815892366070088658105470949790465722988880892461282816013133701029080290999745647849581545614648715516390502419857906131093458783306200262207372471676685455499904994085710809925759928893236615438271955005781625133038153146577907926868500806984428479152424275441026805756321565322061885751225113063937025362927161968251259192025216058701189596732244239267423734490764646727375347964598819149807931718002423855453886038368310800779182466462754117444250018727779518164383451463461299020763343017968554385631667723518389336667042222110939144930287963812839889311731308430042125550185498506529455637766031461255909104611384768282359592477228629042642736163264585443392877263860343149804896397363329754885925681149296836126725898573833216436663487023477302610106130507298611534129948808774473111229542652751653665911730142360626525869077198217037098104644360477226739282987415259306956206384710827408218490673723305874302970924289948173924407869375284401044399048520878851914193541512900681735170306938697059004742515765524807844736214410501620084544412225595620298472594035280190679806809830039645398568593045862526063779745355992774729906488874545124249607637801086390019105809287476472075110923860595019543228160208879621516233852161287522851802529287618325703717285740676394490982546442218465430880661058020158472840671263025459379890650816857137165668594130053319703659640337667414610495637651030836613489310947802681293557331890551970520184515039969098663152512411611192594055280856498931958983456233198368349488080617156243911286631279784837197895336901527760054980551663501978555711014055529763384127504468604647663183266116518206750120476699109872191044474403268943641595942792199442355371870429955924031409171284815854386600538571358363981630945240755700932516824344168240836197927337282521546224696153321702682995097908903459485887834943961620435842249739718711395892730509219705491717696160044558089942787888036916943289459514722672292612485069617316380941082186004528610269654757630431025602715231396948213551982140971654909731999283492567409749039229712634869341457493319804171807611196390227866407592243416776246623623891311027034330457636814112832132630858223945621959808661293999620123415617631817431242008901498384856048087986460839359649236651429681257731432291456871682762199611827826953157498380262465175905410397618128760421638613450221326272775661244113361077519555774950865636067378665062318564069912280187574178549466125327599769796059776059075648910666101583841720281853043211904465775255427754379872605488173619826758168628329526078993222668360283851351228105931859102864150815705631971731518313625024359041463212239217663398268936825315053005989154702909537193266207341123494743367884690201390497842852163414429214589558287847669394646426781221904978563635526336827805186009869924893778600239876916980765662194389854437080594643336233381058745816235475600136592435242657143083465545768002370814675732525470255074763747163506785159917369379325103268276062864591461820472148637037077192692682362333472037924596469181052613915308628029144096548256387309273042654466292904589606375191871146934536197332478957270703153093090192119919999361576500350398405406742538792752792272473356677060783791138448893626136765706026360031513295209539520285489738448625613492441470860708660267634997879342087583612194711699422384848259591430452810706260150896913530301772006271705440209066951491527459771970594769547409521028787255785688002219371774355811079393088338455864827729100862955456614130672123084874022712105868632338823741388442893815544464710575565146843570294663506289387356986868837648032651952841465351739530273612013742030098673983851432190043602898269829352939941412923058038456502270721681516194101144982630136490087704839848838609065336859905458389520318564804149327214239086516499943165920796595356943072311291162928679751715668890543932203569129332457020806719444049730494398140822782960279942454108316667592142483518272381720504103927428880155622338079614751243351473102128454594489944499600075243751957011668341744749079588209951783676802323651767497230148745774272599476096219843271483529861119027287358490521797590837419748602670605374623153003937521236786775284869219585713755426968482783631786110993368014391590597484285805451613023014397905701610889862777961075067333267604865492925139978139053588227689373220494148394013556035656044214017612060513180689198996260618483185340183623782172663758045524719626617492542285280457144204857834211322800852870420548899234127855481236761537707104254469868521991122835426634999712748366076246241820736466617128394748473280474430403344107200428727127567027956758242926271945458053002666489965079569778178621942172005237165369467704195111912704624836051130289046437751148694887849615118841471910001255883836660677208411235153558811267789571558590412576261601067513153580212427331871000635824954504099579407254798900316826512373119055668291519430537084893078691974282904903860372311609928342431712225099454715019286664878710795199518005463388384431548172463548024451803084527343100062137103462573306001234973744355818096567846464153390514656919324562353140577919369898842364718352537580525771331120079710406831549266540202604680681839143782721476906324246951712863673844313983337117615941869993466262345373452356794012416809229116360956372167452839170990914664850739205151605604737871061547021699607465693097944261214692561593425649401912298951473254471518126325836889728226283329524035970072786336460459470712417472946877570595815734996284809956783925547424044899188707106967524250774520122936081057414265323472406416214103335334055110452126175035902840374545918645047276243420717709297935401021409646450283683418040758608100140721619247717980985968111540446443728568959286831977797786934641598469745133917741537904877880830022058335046746555323028587325835157')"
       ]
      }
     ],
     "prompt_number": 169
    },
    {
     "cell_type": "code",
     "collapsed": false,
     "input": [
      "sqrt?"
     ],
     "language": "python",
     "metadata": {},
     "outputs": [],
     "prompt_number": 163
    },
    {
     "cell_type": "code",
     "collapsed": false,
     "input": [],
     "language": "python",
     "metadata": {},
     "outputs": []
    }
   ],
   "metadata": {}
  }
 ]
}