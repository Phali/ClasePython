{
 "metadata": {
  "name": ""
 },
 "nbformat": 3,
 "nbformat_minor": 0,
 "worksheets": [
  {
   "cells": [
    {
     "cell_type": "heading",
     "level": 1,
     "metadata": {},
     "source": [
      "Intervalos como objetos"
     ]
    },
    {
     "cell_type": "markdown",
     "metadata": {},
     "source": [
      "Por que necesitamos objetos?\n",
      "\n",
      "Como podriamos representar un intervalo en python?"
     ]
    },
    {
     "cell_type": "code",
     "collapsed": false,
     "input": [
      "#Una tupla.....\n",
      "\n",
      "intervalo=(3,5)"
     ],
     "language": "python",
     "metadata": {},
     "outputs": [],
     "prompt_number": 6
    },
    {
     "cell_type": "code",
     "collapsed": false,
     "input": [
      "type(_)"
     ],
     "language": "python",
     "metadata": {},
     "outputs": [
      {
       "metadata": {},
       "output_type": "pyout",
       "prompt_number": 7,
       "text": [
        "type"
       ]
      }
     ],
     "prompt_number": 7
    },
    {
     "cell_type": "code",
     "collapsed": false,
     "input": [
      "intervalo[1]"
     ],
     "language": "python",
     "metadata": {},
     "outputs": [
      {
       "metadata": {},
       "output_type": "pyout",
       "prompt_number": 10,
       "text": [
        "5"
       ]
      }
     ],
     "prompt_number": 10
    },
    {
     "cell_type": "markdown",
     "metadata": {},
     "source": [
      "Definiremos el objeto *Intervalo*\n",
      "\n",
      "Sintaxis para definir nuevos tipos de objetos"
     ]
    },
    {
     "cell_type": "code",
     "collapsed": false,
     "input": [
      "class Intervalo(object):\n",
      "    pass"
     ],
     "language": "python",
     "metadata": {},
     "outputs": [],
     "prompt_number": 11
    },
    {
     "cell_type": "code",
     "collapsed": false,
     "input": [
      "Intervalo"
     ],
     "language": "python",
     "metadata": {},
     "outputs": [
      {
       "metadata": {},
       "output_type": "pyout",
       "prompt_number": 12,
       "text": [
        "__main__.Intervalo"
       ]
      }
     ],
     "prompt_number": 12
    },
    {
     "cell_type": "code",
     "collapsed": false,
     "input": [
      "type(Intervalo)"
     ],
     "language": "python",
     "metadata": {},
     "outputs": [
      {
       "metadata": {},
       "output_type": "pyout",
       "prompt_number": 13,
       "text": [
        "type"
       ]
      }
     ],
     "prompt_number": 13
    },
    {
     "cell_type": "code",
     "collapsed": false,
     "input": [
      "#Crear un objeto tipo intervalo\n",
      "\n",
      "i=Intervalo()"
     ],
     "language": "python",
     "metadata": {},
     "outputs": [],
     "prompt_number": 14
    },
    {
     "cell_type": "code",
     "collapsed": false,
     "input": [
      "i"
     ],
     "language": "python",
     "metadata": {},
     "outputs": [
      {
       "metadata": {},
       "output_type": "pyout",
       "prompt_number": 17,
       "text": [
        "<__main__.Intervalo at 0x2f01d50>"
       ]
      }
     ],
     "prompt_number": 17
    },
    {
     "cell_type": "code",
     "collapsed": false,
     "input": [
      "class Intervalo(object):\n",
      "    min=3\n",
      "    max=5"
     ],
     "language": "python",
     "metadata": {},
     "outputs": [],
     "prompt_number": 18
    },
    {
     "cell_type": "code",
     "collapsed": false,
     "input": [
      "i=Intervalo()"
     ],
     "language": "python",
     "metadata": {},
     "outputs": [],
     "prompt_number": 19
    },
    {
     "cell_type": "code",
     "collapsed": false,
     "input": [
      "i.max"
     ],
     "language": "python",
     "metadata": {},
     "outputs": [
      {
       "metadata": {},
       "output_type": "pyout",
       "prompt_number": 21,
       "text": [
        "5"
       ]
      }
     ],
     "prompt_number": 21
    },
    {
     "cell_type": "code",
     "collapsed": false,
     "input": [
      "i.min=10"
     ],
     "language": "python",
     "metadata": {},
     "outputs": [],
     "prompt_number": 22
    },
    {
     "cell_type": "code",
     "collapsed": false,
     "input": [
      "i.min"
     ],
     "language": "python",
     "metadata": {},
     "outputs": [
      {
       "metadata": {},
       "output_type": "pyout",
       "prompt_number": 23,
       "text": [
        "10"
       ]
      }
     ],
     "prompt_number": 23
    },
    {
     "cell_type": "markdown",
     "metadata": {},
     "source": [
      "Constructores"
     ]
    },
    {
     "cell_type": "code",
     "collapsed": false,
     "input": [
      "#Daremos min y max\n",
      "\n",
      "class Intervalo(object):\n",
      "    def __init__(self,min,max):\n",
      "        self.min=min\n",
      "        self.max=max"
     ],
     "language": "python",
     "metadata": {},
     "outputs": [],
     "prompt_number": 31
    },
    {
     "cell_type": "code",
     "collapsed": false,
     "input": [
      "i=Intervalo(-1,1)"
     ],
     "language": "python",
     "metadata": {},
     "outputs": [],
     "prompt_number": 32
    },
    {
     "cell_type": "code",
     "collapsed": false,
     "input": [
      "i.min"
     ],
     "language": "python",
     "metadata": {},
     "outputs": [
      {
       "metadata": {},
       "output_type": "pyout",
       "prompt_number": 34,
       "text": [
        "-1"
       ]
      }
     ],
     "prompt_number": 34
    },
    {
     "cell_type": "code",
     "collapsed": false,
     "input": [
      "(i.min,i.max)"
     ],
     "language": "python",
     "metadata": {},
     "outputs": [
      {
       "metadata": {},
       "output_type": "pyout",
       "prompt_number": 36,
       "text": [
        "(-1, 1)"
       ]
      }
     ],
     "prompt_number": 36
    },
    {
     "cell_type": "code",
     "collapsed": false,
     "input": [
      "#Mandar un argumento e interpretarlo como un intervalo en un solo punto\n",
      "\n",
      "class Intervalo(object):\n",
      "    def __init__(self,min,max=None):\n",
      "        if max is None:\n",
      "            max=min\n",
      "            \n",
      "        self.min=min\n",
      "        self.max=max"
     ],
     "language": "python",
     "metadata": {},
     "outputs": [],
     "prompt_number": 39
    },
    {
     "cell_type": "code",
     "collapsed": false,
     "input": [
      "i=Intervalo(1)"
     ],
     "language": "python",
     "metadata": {},
     "outputs": [],
     "prompt_number": 40
    },
    {
     "cell_type": "code",
     "collapsed": false,
     "input": [
      "i.max"
     ],
     "language": "python",
     "metadata": {},
     "outputs": [
      {
       "metadata": {},
       "output_type": "pyout",
       "prompt_number": 41,
       "text": [
        "1"
       ]
      }
     ],
     "prompt_number": 41
    },
    {
     "cell_type": "code",
     "collapsed": false,
     "input": [
      "i.min"
     ],
     "language": "python",
     "metadata": {},
     "outputs": [
      {
       "metadata": {},
       "output_type": "pyout",
       "prompt_number": 42,
       "text": [
        "1"
       ]
      }
     ],
     "prompt_number": 42
    },
    {
     "cell_type": "code",
     "collapsed": false,
     "input": [
      "i=Intervalo(-1,1)"
     ],
     "language": "python",
     "metadata": {},
     "outputs": [],
     "prompt_number": 43
    },
    {
     "cell_type": "code",
     "collapsed": false,
     "input": [
      "i.max"
     ],
     "language": "python",
     "metadata": {},
     "outputs": [
      {
       "metadata": {},
       "output_type": "pyout",
       "prompt_number": 44,
       "text": [
        "1"
       ]
      }
     ],
     "prompt_number": 44
    },
    {
     "cell_type": "code",
     "collapsed": false,
     "input": [
      "i.min"
     ],
     "language": "python",
     "metadata": {},
     "outputs": [
      {
       "metadata": {},
       "output_type": "pyout",
       "prompt_number": 45,
       "text": [
        "-1"
       ]
      }
     ],
     "prompt_number": 45
    },
    {
     "cell_type": "code",
     "collapsed": false,
     "input": [
      "i"
     ],
     "language": "python",
     "metadata": {},
     "outputs": [
      {
       "metadata": {},
       "output_type": "pyout",
       "prompt_number": 48,
       "text": [
        "<__main__.Intervalo at 0x2f6b350>"
       ]
      }
     ],
     "prompt_number": 48
    },
    {
     "cell_type": "markdown",
     "metadata": {},
     "source": [
      "Representacion util"
     ]
    },
    {
     "cell_type": "code",
     "collapsed": false,
     "input": [
      "class Intervalo(object):\n",
      "    def __init__(self,min,max=None):\n",
      "        if max is None:\n",
      "            max=min\n",
      "            \n",
      "        self.min=min\n",
      "        self.max=max\n",
      "    \n",
      "    #def __repr__(self):\n",
      "        #return 'Intervalo(%s,%s)' %(self.min,self.max)\n",
      "        #Otra manera:\n",
      "        #return 'Intervalo({},{})'.format(self.min,self.max)\n",
      "    #def __str__(self):\n",
      "        #return '[{},{}]'.format(self.min,self.max)\n",
      "    #Para el Ipython\n",
      "    #def _repr_html_(self):\n",
      "        #return '[{},{}]'.format(self.min,self.max)\n",
      "    #En LaTeX\n",
      "    def _repr_latex_(self):\n",
      "        return '$[{},{}]$'.format(self.min,self.max)\n",
      "    \n",
      "    def __add__(self,otro):\n",
      "        \n",
      "        return Intervalo(self.min+otro.min,self.max+otro.max)"
     ],
     "language": "python",
     "metadata": {},
     "outputs": [],
     "prompt_number": 169
    },
    {
     "cell_type": "code",
     "collapsed": false,
     "input": [
      "i=Intervalo(-1,1)"
     ],
     "language": "python",
     "metadata": {},
     "outputs": [],
     "prompt_number": 170
    },
    {
     "cell_type": "code",
     "collapsed": false,
     "input": [
      "i"
     ],
     "language": "python",
     "metadata": {},
     "outputs": [
      {
       "latex": [
        "$[-1,1]$"
       ],
       "metadata": {},
       "output_type": "pyout",
       "prompt_number": 171,
       "text": [
        "<__main__.Intervalo at 0x2f87d10>"
       ]
      }
     ],
     "prompt_number": 171
    },
    {
     "cell_type": "code",
     "collapsed": false,
     "input": [
      "i.min=-20"
     ],
     "language": "python",
     "metadata": {},
     "outputs": [],
     "prompt_number": 172
    },
    {
     "cell_type": "code",
     "collapsed": false,
     "input": [
      "print i"
     ],
     "language": "python",
     "metadata": {},
     "outputs": [
      {
       "output_type": "stream",
       "stream": "stdout",
       "text": [
        "<__main__.Intervalo object at 0x2f87d10>\n"
       ]
      }
     ],
     "prompt_number": 173
    },
    {
     "cell_type": "code",
     "collapsed": false,
     "input": [
      "i"
     ],
     "language": "python",
     "metadata": {},
     "outputs": [
      {
       "latex": [
        "$[-20,1]$"
       ],
       "metadata": {},
       "output_type": "pyout",
       "prompt_number": 174,
       "text": [
        "<__main__.Intervalo at 0x2f87d10>"
       ]
      }
     ],
     "prompt_number": 174
    },
    {
     "cell_type": "code",
     "collapsed": false,
     "input": [
      "i+i"
     ],
     "language": "python",
     "metadata": {},
     "outputs": [
      {
       "latex": [
        "$[-40,2]$"
       ],
       "metadata": {},
       "output_type": "pyout",
       "prompt_number": 175,
       "text": [
        "<__main__.Intervalo at 0x2f87dd0>"
       ]
      }
     ],
     "prompt_number": 175
    },
    {
     "cell_type": "code",
     "collapsed": false,
     "input": [
      "i=Intervalo(2,3)\n",
      "j=Intervalo(3,4)"
     ],
     "language": "python",
     "metadata": {},
     "outputs": [],
     "prompt_number": 176
    },
    {
     "cell_type": "code",
     "collapsed": false,
     "input": [
      "i+j"
     ],
     "language": "python",
     "metadata": {},
     "outputs": [
      {
       "latex": [
        "$[5,7]$"
       ],
       "metadata": {},
       "output_type": "pyout",
       "prompt_number": 177,
       "text": [
        "<__main__.Intervalo at 0x2f87890>"
       ]
      }
     ],
     "prompt_number": 177
    },
    {
     "cell_type": "code",
     "collapsed": false,
     "input": [
      "%%file intervalo.py\n",
      "class Intervalo(object):\n",
      "    def __init__(self,min,max=None):\n",
      "        if max is None:\n",
      "            max=min\n",
      "            \n",
      "        self.min=min\n",
      "        self.max=max\n",
      "    \n",
      "    #def __repr__(self):\n",
      "        #return 'Intervalo(%s,%s)' %(self.min,self.max)\n",
      "        #Otra manera:\n",
      "        #return 'Intervalo({},{})'.format(self.min,self.max)\n",
      "    #def __str__(self):\n",
      "        #return '[{},{}]'.format(self.min,self.max)\n",
      "    #Para el Ipython\n",
      "    #def _repr_html_(self):\n",
      "        #return '[{},{}]'.format(self.min,self.max)\n",
      "    #En LaTeX\n",
      "    def _repr_latex_(self):\n",
      "        return '$[{},{}]$'.format(self.min,self.max)\n",
      "    \n",
      "    def __add__(self,otro):\n",
      "        \n",
      "        return Intervalo(self.min+otro.min,self.max+otro.max)"
     ],
     "language": "python",
     "metadata": {},
     "outputs": [
      {
       "output_type": "stream",
       "stream": "stdout",
       "text": [
        "Writing intervalo.py\n"
       ]
      }
     ],
     "prompt_number": 178
    },
    {
     "cell_type": "code",
     "collapsed": false,
     "input": [
      "ls"
     ],
     "language": "python",
     "metadata": {},
     "outputs": [
      {
       "output_type": "stream",
       "stream": "stdout",
       "text": [
        "02 clase.ipynb            \u001b[0m\u001b[01;34mGeometria\u001b[0m/                     \u001b[01;34mSemestre-2013-1\u001b[0m/\r\n",
        "archivo.py                \u001b[01;34mgit\u001b[0m/                           \u001b[01;34mTemplates\u001b[0m/\r\n",
        "autosave.edp              intervalo.py                   \u001b[01;32mtemplete\u001b[0m*\r\n",
        "babilon2.py               MiguelRuizElQuintoAcuerdo.pdf  Templete_Global.cu\r\n",
        "babilon.py                \u001b[01;34mMusic\u001b[0m/                         Templete_Global.cu~\r\n",
        "\u001b[01;32mcompartida\u001b[0m*               \u001b[01;34mNVIDIA_GPU_Computing_SDK\u001b[0m/      Untitled0.ipynb\r\n",
        "Datos.dat                 \u001b[01;32mpar\u001b[0m*                           Untitled1.ipynb\r\n",
        "\u001b[01;34mDesktop\u001b[0m/                  \u001b[01;34mPictures\u001b[0m/                      Untitled2.ipynb\r\n",
        "\u001b[01;34mDocuments\u001b[0m/                \u001b[01;34mProyectos\u001b[0m/                     Untitled3.ipynb\r\n",
        "\u001b[01;34mDownloads\u001b[0m/                \u001b[01;34mPublic\u001b[0m/                        \u001b[01;34mVideos\u001b[0m/\r\n",
        "\u001b[01;34mFreeFem\u001b[0m/                  \u001b[01;34mR\u001b[0m/                             Wensday_21_Ago.ipynb\r\n",
        "funciones_matematicas.py  raiz.py\r\n"
       ]
      }
     ],
     "prompt_number": 179
    },
    {
     "cell_type": "code",
     "collapsed": false,
     "input": [
      "cat intervalo.py"
     ],
     "language": "python",
     "metadata": {},
     "outputs": [
      {
       "output_type": "stream",
       "stream": "stdout",
       "text": [
        "class Intervalo(object):\r\n",
        "    def __init__(self,min,max=None):\r\n",
        "        if max is None:\r\n",
        "            max=min\r\n",
        "            \r\n",
        "        self.min=min\r\n",
        "        self.max=max\r\n",
        "    \r\n",
        "    #def __repr__(self):\r\n",
        "        #return 'Intervalo(%s,%s)' %(self.min,self.max)\r\n",
        "        #Otra manera:\r\n",
        "        #return 'Intervalo({},{})'.format(self.min,self.max)\r\n",
        "    #def __str__(self):\r\n",
        "        #return '[{},{}]'.format(self.min,self.max)\r\n",
        "    #Para el Ipython\r\n",
        "    #def _repr_html_(self):\r\n",
        "        #return '[{},{}]'.format(self.min,self.max)\r\n",
        "    #En LaTeX\r\n",
        "    def _repr_latex_(self):\r\n",
        "        return '$[{},{}]$'.format(self.min,self.max)\r\n",
        "    \r\n",
        "    def __add__(self,otro):\r\n",
        "        \r\n",
        "        return Intervalo(self.min+otro.min,self.max+otro.max)"
       ]
      }
     ],
     "prompt_number": 180
    },
    {
     "cell_type": "code",
     "collapsed": false,
     "input": [],
     "language": "python",
     "metadata": {},
     "outputs": []
    }
   ],
   "metadata": {}
  }
 ]
}