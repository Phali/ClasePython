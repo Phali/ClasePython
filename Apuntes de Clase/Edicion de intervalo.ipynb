{
 "metadata": {
  "name": "Edicion de intervalo"
 },
 "nbformat": 3,
 "nbformat_minor": 0,
 "worksheets": [
  {
   "cells": [
    {
     "cell_type": "heading",
     "level": 1,
     "metadata": {},
     "source": [
      "Intervalos como objetos"
     ]
    },
    {
     "cell_type": "code",
     "collapsed": false,
     "input": [
      "class Intervalo(object):\n",
      "    def __init__(self,min,max=None):\n",
      "        if max is None:\n",
      "            max=min\n",
      "            \n",
      "        self.min=min\n",
      "        self.max=max\n",
      "    \n",
      "    #def __repr__(self):\n",
      "        #return 'Intervalo(%s,%s)' %(self.min,self.max)\n",
      "        #Otra manera:\n",
      "        #return 'Intervalo({},{})'.format(self.min,self.max)\n",
      "    #def __str__(self):\n",
      "        #return '[{},{}]'.format(self.min,self.max)\n",
      "    #Para el Ipython\n",
      "    def _repr_html_(self):\n",
      "        return '[{},{}]'.format(self.min,self.max)\n",
      "    #En LaTeX\n",
      "    \n",
      "    #def _repr_latex_(self):\n",
      "     #   return '$[{},{}]$'.format(self.min,self.max)\n",
      "    \n",
      "    def __add__(self,otro):\n",
      "        \n",
      "        return Intervalo(self.min+otro.min,self.max+otro.max)\n",
      "    def __"
     ],
     "language": "python",
     "metadata": {},
     "outputs": [
      {
       "output_type": "stream",
       "stream": "stdout",
       "text": [
        "Writing intervalo.py\n"
       ]
      }
     ],
     "prompt_number": 178
    }
   ],
   "metadata": {}
  }
 ]
}